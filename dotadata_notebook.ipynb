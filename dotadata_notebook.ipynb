{
 "cells": [
  {
   "cell_type": "code",
   "execution_count": 1,
   "metadata": {},
   "outputs": [],
   "source": [
    "import pandas as pd\n",
    "import numpy as np\n",
    "import matplotlib.pyplot as plt\n",
    "import seaborn as sns\n",
    "import os\n",
    "\n",
    "# import the required libraries for web scraping\n",
    "# from bs4 import BeautifulSoup\n",
    "# import requests\n",
    "# import re\n",
    "# import time\n",
    "# import random"
   ]
  },
  {
   "cell_type": "code",
   "execution_count": 2,
   "metadata": {},
   "outputs": [],
   "source": [
    "pd.set_option('display.max_columns', 30)\n",
    "pd.set_option('display.max_rows', 200)"
   ]
  },
  {
   "cell_type": "code",
   "execution_count": null,
   "metadata": {},
   "outputs": [],
   "source": [
    "dota_players = pd.read_csv('data/dota_players_final.csv')\n",
    "dota_teams = pd.read_csv('data/dota_teams.csv')\n",
    "dota_heroes = pd.read_csv('data/dota_heroes.csv')\n",
    "hero_stats = pd.read_csv('data/hero_stats.csv')\n",
    "dota_items = pd.read_csv('data/dota_items.csv')\n",
    "dota_shop_items = pd.read_csv('data/dota_shop_items.csv')\n",
    "item_abilities = pd.read_csv('data/item_abilities.csv')"
   ]
  },
  {
   "cell_type": "code",
   "execution_count": 2,
   "metadata": {},
   "outputs": [],
   "source": [
    "random_matches = pd.read_csv('random_matches.csv')\n",
    "random_game_data = pd.read_csv('random_game_data.csv')\n",
    "random_team_games = pd.read_csv('r_team_games.csv')"
   ]
  },
  {
   "cell_type": "code",
   "execution_count": 16,
   "metadata": {},
   "outputs": [],
   "source": [
    "# create a dataframe for every row where g_win is 1\n",
    "# this will be used to create a dataframe for every team that won a game\n",
    "\n",
    "winning_teams = random_matches[random_matches['g_win'] == 1]"
   ]
  },
  {
   "cell_type": "code",
   "execution_count": 21,
   "metadata": {},
   "outputs": [],
   "source": [
    "w_teams = winning_teams.drop_duplicates(subset=['game_id', 'team_id'])"
   ]
  },
  {
   "cell_type": "code",
   "execution_count": 23,
   "metadata": {},
   "outputs": [],
   "source": [
    "# set the values of g_win in random_game_data to the matching team_id in w_teams (match based on game_id)\n",
    "\n",
    "random_game_data['g_win'] = random_game_data['game_id'].map(w_teams.set_index('game_id')['team_id'])"
   ]
  },
  {
   "cell_type": "code",
   "execution_count": 28,
   "metadata": {},
   "outputs": [],
   "source": [
    "random_game_data.game_date = pd.to_datetime(random_game_data.game_date)"
   ]
  },
  {
   "cell_type": "code",
   "execution_count": 25,
   "metadata": {},
   "outputs": [],
   "source": [
    "random_game_data.to_csv('random_game_data.csv', index=False)"
   ]
  },
  {
   "cell_type": "code",
   "execution_count": 11,
   "metadata": {},
   "outputs": [],
   "source": [
    "def split_team_id(df):\n",
    "    t1 = df[\"team_ids\"][0]\n",
    "    t2 = df[\"team_ids\"][1]\n",
    "    df[\"team_1\"] = t1\n",
    "    df[\"team_2\"] = t2\n",
    "    return df"
   ]
  },
  {
   "cell_type": "code",
   "execution_count": null,
   "metadata": {},
   "outputs": [],
   "source": [
    "r_games = r_m_d.apply(split_team_id, axis=1)"
   ]
  },
  {
   "cell_type": "code",
   "execution_count": null,
   "metadata": {},
   "outputs": [],
   "source": [
    "r_games.to_csv('data/r_team_games.csv', index=False)"
   ]
  },
  {
   "cell_type": "code",
   "execution_count": null,
   "metadata": {},
   "outputs": [],
   "source": [
    "# output a dictionary of team_id and the game_id they played in and an indicator of whether they won or lost\n",
    "team_id_dict = {}\n",
    "for team_id in random_match_data['team_id'].unique():\n",
    "    team_id_dict[team_id] = random_match_data[random_match_data['team_id'] == team_id][['game_id', 'g_win']].values.tolist()"
   ]
  },
  {
   "cell_type": "code",
   "execution_count": null,
   "metadata": {},
   "outputs": [],
   "source": [
    "# use the random_match_data dataframe to create a dataframe with game_id, game_win (the team_id of the team with g_win = 1), random game_duration (between 20 and 60 minutes), and random game_date (between 2017-03-19 and 2022-12-31)\n",
    "# random_game_data = random_match_data[['game_id', 'team_id']].drop_duplicates(subset=['game_id'])\n",
    "random_game_data['game_duration'] = np.random.randint(20, 60, random_game_data.shape[0])\n",
    "random_game_data['game_date'] = pd.to_datetime(np.random.randint(1489987200, 1672531200, random_game_data.shape[0]), unit='s')\n",
    "random_game_data.head()"
   ]
  },
  {
   "cell_type": "code",
   "execution_count": null,
   "metadata": {},
   "outputs": [],
   "source": [
    "random_match_data"
   ]
  },
  {
   "cell_type": "code",
   "execution_count": null,
   "metadata": {},
   "outputs": [],
   "source": [
    "# use the random_match_data dataframe to create a dataframe with game_id, game_win (the team_id of the team with g_win = 1), random game_duration (between 20 and 60 minutes), and random game_date (between 2017-03-19 and 2022-12-31)\n",
    "random_game_data = random_match_data[['game_id', 'g_win']].drop_duplicates(subset=['game_id'])"
   ]
  },
  {
   "cell_type": "code",
   "execution_count": null,
   "metadata": {},
   "outputs": [],
   "source": [
    "random_game_data.sort_values(by='game_date', ascending=True, inplace=True)"
   ]
  },
  {
   "cell_type": "code",
   "execution_count": null,
   "metadata": {},
   "outputs": [],
   "source": [
    "random_game_data"
   ]
  },
  {
   "cell_type": "code",
   "execution_count": null,
   "metadata": {},
   "outputs": [],
   "source": [
    "# calculate the wins for each team from the random_match_data dataframe\n",
    "team_wins = random_match_data.groupby('team_id')['g_win'].sum().reset_index()\n",
    "team_wins.g_win = team_wins.g_win/5"
   ]
  },
  {
   "cell_type": "code",
   "execution_count": null,
   "metadata": {},
   "outputs": [],
   "source": [
    "single_performances = pd.read_csv('data/datdota_singleperformances.csv')"
   ]
  },
  {
   "cell_type": "code",
   "execution_count": null,
   "metadata": {},
   "outputs": [],
   "source": [
    "item_abilities.to_csv('data/item_abilities.csv', index=False)"
   ]
  },
  {
   "cell_type": "code",
   "execution_count": null,
   "metadata": {},
   "outputs": [],
   "source": [
    "dota_shop_items"
   ]
  },
  {
   "cell_type": "code",
   "execution_count": null,
   "metadata": {},
   "outputs": [],
   "source": [
    "dota_shop_items.to_csv('data/dota_shop_items.csv', index=False)"
   ]
  },
  {
   "cell_type": "code",
   "execution_count": null,
   "metadata": {},
   "outputs": [],
   "source": [
    "# get a list of how gpm scales with kills and last hits\n",
    "gpm_kills = single_performances.groupby('Kills')['GPM'].mean()\n",
    "gpm_lh = single_performances.groupby('Last Hits')['GPM'].mean()\n",
    "xpm_kills = single_performances.groupby('Kills')['XPM'].mean()\n",
    "xpm_lh = single_performances.groupby('Last Hits')['XPM'].mean()\n",
    "xpm_level = single_performances.groupby('LVL')['XPM'].mean()\n",
    "\n",
    "# plot the data\n",
    "fig, ax = plt.subplots(figsize=(10, 6))\n",
    "fig2, ax2 = plt.subplots(figsize=(10, 6))\n",
    "ax.plot(gpm_kills.index, gpm_kills.values, label='GPM per kill')\n",
    "ax2.plot(gpm_lh.index, gpm_lh.values, label='GPM per last hit')\n",
    "ax.set_xlabel('Kills')\n",
    "ax.set_ylabel('GPM')\n",
    "ax2.set_xlabel('Last Hits')\n",
    "ax2.set_ylabel('GPM')\n",
    "ax2.legend()\n",
    "ax.legend()\n",
    "plt.show()"
   ]
  },
  {
   "cell_type": "code",
   "execution_count": null,
   "metadata": {},
   "outputs": [],
   "source": [
    "# drop the major outliers in single_performances\n",
    "single_performances = single_performances[single_performances['Kills'] < 30]"
   ]
  },
  {
   "cell_type": "code",
   "execution_count": null,
   "metadata": {},
   "outputs": [],
   "source": [
    "# get the value ranges for all columns in single_performances sorted by hero, ignoring Match, Player, Result, and End Game Items\n",
    "hero_stats = single_performances.drop(['Match', 'Player', 'Result', 'End Game Items', 'KDA'], axis=1).groupby('Hero').agg(['min', 'max', 'mean'])"
   ]
  },
  {
   "cell_type": "code",
   "execution_count": null,
   "metadata": {},
   "outputs": [],
   "source": [
    "# get the value ranges for all columns in single_performances and put them in a dictionary\n",
    "value_ranges = {}\n",
    "value_averages = {}\n",
    "for col in single_performances.columns:\n",
    "    if col != 'Match' and col != 'Hero' and col != 'Player' and col != 'Result' and col != 'End Game Items':\n",
    "        value_ranges[col] = [min(single_performances[col]), max(single_performances[col])]\n",
    "        value_averages[col] = np.mean(single_performances[col])\n",
    "value_ranges"
   ]
  },
  {
   "cell_type": "code",
   "execution_count": null,
   "metadata": {},
   "outputs": [],
   "source": [
    "player_options = dota_players['ID'].unique()"
   ]
  },
  {
   "cell_type": "code",
   "execution_count": null,
   "metadata": {},
   "outputs": [],
   "source": [
    "# create a dataframe of dataframes for each team_name in dota_players\n",
    "team_dataframes = {}\n",
    "for team_name in dota_players['team_name'].unique():\n",
    "    team_dataframes[team_name] = dota_players[dota_players['team_name'] == team_name]\n",
    "\n",
    "# get a subframe of all teams with at least 5 players\n",
    "team_dataframes_5 = {k: v for k, v in team_dataframes.items() if len(v) >= 5}\n",
    "\n",
    "# get a list of all team names in team_dataframes_5\n",
    "team_names = list(team_dataframes_5.keys())"
   ]
  },
  {
   "cell_type": "code",
   "execution_count": null,
   "metadata": {},
   "outputs": [],
   "source": [
    "# get a subframe of all teams with at least 5 players\n",
    "team_dataframes_5 = {k: v for k, v in team_dataframes.items() if len(v) >= 5}"
   ]
  },
  {
   "cell_type": "code",
   "execution_count": null,
   "metadata": {},
   "outputs": [],
   "source": [
    "# get a list of all team names in team_dataframes_5\n",
    "team_names = list(team_dataframes_5.keys())"
   ]
  },
  {
   "cell_type": "code",
   "execution_count": null,
   "metadata": {},
   "outputs": [],
   "source": [
    "team_dataframes_5[\"Alliance.LATAM\"]"
   ]
  },
  {
   "cell_type": "code",
   "execution_count": null,
   "metadata": {},
   "outputs": [],
   "source": [
    "# a function to select 2 random teams from team_names, then create a random match between their players\n",
    "def create_random_match_data():\n",
    "    # select 2 random teams\n",
    "    team1 = random.choice(team_names)\n",
    "    team2 = random.choice(team_names)\n",
    "    while team1 == team2:\n",
    "        team2 = random.choice(team_names)\n",
    "\n",
    "    # create a random match between the 2 teams\n",
    "    randommatch = create_random_match(team_dataframes_5[team1]['p_id'].values, team_dataframes_5[team2]['p_id'].values)\n",
    "\n",
    "    return randommatch"
   ]
  },
  {
   "cell_type": "code",
   "execution_count": null,
   "metadata": {},
   "outputs": [],
   "source": [
    "create_random_match_data()"
   ]
  },
  {
   "cell_type": "code",
   "execution_count": null,
   "metadata": {},
   "outputs": [],
   "source": [
    "regions = ['North America', 'Europe', 'China', 'Southeast Asia', 'South America', 'CIS']"
   ]
  },
  {
   "cell_type": "code",
   "execution_count": null,
   "metadata": {},
   "outputs": [],
   "source": [
    "# function that takes a pandas dataframe and assign a region based on each player country\n",
    "def assign_region(df):\n",
    "    df['Region'] = df['country'].apply(lambda x: 'North America' if x in ['United States', 'Canada'] else 'Europe' if x in ['United Kingdom', 'Germany', 'France', 'Spain', 'Italy', 'Netherlands', 'Poland', 'Sweden', 'Denmark', 'Norway', 'Finland', 'Belgium', 'Switzerland', 'Austria', 'Portugal', 'Greece', 'Czech Republic', 'Hungary', 'Romania', 'Bulgaria', 'Serbia', 'Slovenia', 'Bosnia and Herzegovina', 'Croatia', 'Ireland', 'Luxembourg', 'Slovakia', 'Estonia', 'Latvia', 'Lithuania', 'Moldova', 'Montenegro', 'Albania', 'Cyprus', 'Macedonia', 'Malta', 'Ukraine', 'Armenia', 'Azerbaijan', 'Georgia', 'Kazakhstan', 'Russia', 'Turkey', 'Belarus', 'Iceland', 'Liechtenstein', 'Monaco', 'San Marino', 'Vatican City'] else 'China' if x in ['China', 'Hong Kong', 'Taiwan'] else 'Southeast Asia' if x in ['Singapore', 'Malaysia', 'Philippines', 'Indonesia', 'Thailand', 'Vietnam', 'Cambodia', 'Laos', 'Myanmar', 'Brunei'] else 'South America' if x in ['Brazil', 'Argentina', 'Chile', 'Colombia', 'Ecuador', 'Peru', 'Venezuela', 'Uruguay', 'Bolivia', 'Paraguay', 'Guyana', 'Suriname', 'French Guiana', 'Easter Island', 'Falkland Islands', 'South Georgia and the South Sandwich Islands', 'South Sandwich Islands', 'Antarctica'] else 'CIS' if x in ['Russia', 'Ukraine', 'Belarus', 'Kazakhstan', 'Azerbaijan', 'Armenia', 'Georgia', 'Kyrgyzstan', 'Moldova', 'Tajikistan', 'Turkmenistan', 'Uzbekistan', 'Kosovo', 'Abkhazia', 'South Ossetia'] else 'Other')\n",
    "    return df"
   ]
  },
  {
   "cell_type": "code",
   "execution_count": null,
   "metadata": {},
   "outputs": [],
   "source": [
    "dota_players = assign_region(dota_active_players)"
   ]
  },
  {
   "cell_type": "code",
   "execution_count": null,
   "metadata": {},
   "outputs": [],
   "source": [
    "# function that detects first occurence of char\n",
    "def find_first(string, char):\n",
    "    for i, c in enumerate(string):\n",
    "        if c == char:\n",
    "            return i\n",
    "    return -1\n",
    "\n",
    "# function that detects last occurence of char\n",
    "def find_last(string, char):\n",
    "    for i, c in enumerate(string[::-1]):\n",
    "        if c == char:\n",
    "            return len(string) - i - 1\n",
    "    return -1"
   ]
  },
  {
   "cell_type": "code",
   "execution_count": null,
   "metadata": {},
   "outputs": [],
   "source": [
    "# split the team column into team name and role\n",
    "dota_players['team_name'] = dota_players['team'].apply(lambda x: x[:find_first(x, '(')].strip())\n",
    "dota_players['role'] = dota_players['team'].apply(lambda x: x[find_first(x, '(')+1:find_last(x, ')')])\n",
    "dota_players.drop('team', axis=1, inplace=True)"
   ]
  },
  {
   "cell_type": "code",
   "execution_count": null,
   "metadata": {},
   "outputs": [],
   "source": [
    "roles = ['Support', 'Offlaner', 'Solo Middle', 'Carry', 'Coach']"
   ]
  },
  {
   "cell_type": "code",
   "execution_count": null,
   "metadata": {},
   "outputs": [],
   "source": [
    "# filter the roles\n",
    "dota_players = dota_players[dota_players['role'].isin(roles)]"
   ]
  },
  {
   "attachments": {},
   "cell_type": "markdown",
   "metadata": {},
   "source": [
    "### Below is for scraping dota data from liquipedia"
   ]
  },
  {
   "cell_type": "code",
   "execution_count": null,
   "metadata": {},
   "outputs": [],
   "source": [
    "# scrape the data from the website\n",
    "url = \"https://liquipedia.net/dota2/Players_(all)\"\n",
    "page = requests.get(url)\n",
    "soup = BeautifulSoup(page.content, \"html.parser\")\n",
    "rows = soup.findAll(\"tr\")\n",
    "# # find the table with the data\n",
    "# table = soup.find('table', class_='wikitable')"
   ]
  },
  {
   "cell_type": "code",
   "execution_count": null,
   "metadata": {},
   "outputs": [],
   "source": [
    "rows[1]"
   ]
  },
  {
   "cell_type": "code",
   "execution_count": null,
   "metadata": {},
   "outputs": [],
   "source": [
    "indexes = rows[1]\n",
    "index_values = []\n",
    "for cell in indexes.find_all(\"th\"):\n",
    "    index_values.append(cell.get_text().rstrip())\n",
    "players = []"
   ]
  },
  {
   "cell_type": "code",
   "execution_count": null,
   "metadata": {},
   "outputs": [],
   "source": [
    "index_values"
   ]
  },
  {
   "cell_type": "code",
   "execution_count": null,
   "metadata": {},
   "outputs": [],
   "source": [
    "for row in rows:\n",
    "    if len(row) > 3:\n",
    "        player = {}\n",
    "        cells = row.find_all(\"td\")\n",
    "        for i in range(0, len(cells)):\n",
    "            key = index_values[i]\n",
    "            if key == \" Links\":\n",
    "                key = \"country\"\n",
    "                value = cells[0].find(\"a\").get(\"title\")\n",
    "            else:\n",
    "                value = cells[i].get_text().rstrip()\n",
    "            player[key] = value\n",
    "        if len(player) > 0:\n",
    "            players.append(player)"
   ]
  },
  {
   "cell_type": "code",
   "execution_count": null,
   "metadata": {},
   "outputs": [],
   "source": [
    "player_df = pd.DataFrame(players)"
   ]
  },
  {
   "cell_type": "code",
   "execution_count": null,
   "metadata": {},
   "outputs": [],
   "source": [
    "player_df.rename(\n",
    "    columns={\" Real Name\": \"name\", \" Team\": \"team\", \" ID\": \"ID\"}, inplace=True\n",
    ")"
   ]
  },
  {
   "cell_type": "code",
   "execution_count": null,
   "metadata": {},
   "outputs": [],
   "source": [
    "filter_roles = {\n",
    "    \"Carry\",\n",
    "    \"Mid\",\n",
    "    \"Offlane\",\n",
    "    \"Support\",\n",
    "    \"Hard Support\",\n",
    "    \"Soft Support\",\n",
    "    \"Hard\",\n",
    "    \"Soft\",\n",
    "    \"Hard Carry\",\n",
    "    \"Soft Carry\",\n",
    "    \"Hard Carry\",\n",
    "    \"Solo Middle\",\n",
    "    \"Analyst\",\n",
    "    \"Caster\",\n",
    "    \"Host\",\n",
    "    \"Offlaner\"\n",
    "}\n",
    "# drop the rows that are in the filter_roles\n",
    "player_df = player_df[~player_df[\"team\"].isin(filter_roles)]"
   ]
  },
  {
   "cell_type": "code",
   "execution_count": null,
   "metadata": {},
   "outputs": [],
   "source": [
    "player_df.to_csv(\"liquipedia_dota_players.csv\", index=False)"
   ]
  },
  {
   "cell_type": "code",
   "execution_count": null,
   "metadata": {},
   "outputs": [],
   "source": [
    "# strip all leading and trailing spaces\n",
    "player_df = player_df.apply(lambda x: x.str.strip() if x.dtype == \"object\" else x)"
   ]
  },
  {
   "cell_type": "code",
   "execution_count": null,
   "metadata": {},
   "outputs": [],
   "source": [
    "url = \"https://liquipedia.net/dota2/Portal:Teams\"\n",
    "page = requests.get(url)\n",
    "soup = BeautifulSoup(page.content, \"html.parser\")\n",
    "teams = []\n",
    "divs = soup.find_all('div',class_=\"panel-box\")"
   ]
  },
  {
   "cell_type": "code",
   "execution_count": null,
   "metadata": {},
   "outputs": [],
   "source": [
    "\n",
    "\n",
    "def get_teams():\n",
    "\turl = \"https://liquipedia.net/dota2/Portal:Teams\"\n",
    "\tpage = requests.get(url)\n",
    "\tsoup = BeautifulSoup(page.content, \"html.parser\")\n",
    "\tteams = []\n",
    "\tdivs = soup.find_all('div',class_=\"panel-box\")\n",
    "\ttemplates = soup.find_all('span',class_=\"team-template-team-standard\")\n",
    "\tfor team in templates:\n",
    "\t\tteams.append(team.a['title'])\n",
    "\t\t\t\n",
    "\treturn teams"
   ]
  },
  {
   "cell_type": "code",
   "execution_count": null,
   "metadata": {},
   "outputs": [],
   "source": [
    "teamdf = pd.DataFrame(get_teams())"
   ]
  },
  {
   "cell_type": "code",
   "execution_count": null,
   "metadata": {},
   "outputs": [],
   "source": [
    "teamdf.to_csv(\"activeteams.csv\")"
   ]
  },
  {
   "cell_type": "code",
   "execution_count": null,
   "metadata": {},
   "outputs": [],
   "source": [
    "print(\n",
    "    \"Min: {}, Max: {}\".format(\n",
    "        dota_performances[\"GPM\"].min(), dota_performances[\"GPM\"].max()\n",
    "    )\n",
    ")"
   ]
  }
 ],
 "metadata": {
  "kernelspec": {
   "display_name": "rstools",
   "language": "python",
   "name": "python3"
  },
  "language_info": {
   "codemirror_mode": {
    "name": "ipython",
    "version": 3
   },
   "file_extension": ".py",
   "mimetype": "text/x-python",
   "name": "python",
   "nbconvert_exporter": "python",
   "pygments_lexer": "ipython3",
   "version": "3.8.15"
  },
  "orig_nbformat": 4,
  "vscode": {
   "interpreter": {
    "hash": "74433767b723a45c483350c3d47eaaf29169a313b081c7ff587871958aa1c787"
   }
  }
 },
 "nbformat": 4,
 "nbformat_minor": 2
}
