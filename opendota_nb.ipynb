{
 "cells": [
  {
   "cell_type": "code",
   "execution_count": null,
   "metadata": {},
   "outputs": [],
   "source": [
    "import pandas as pd\n",
    "import numpy as np\n",
    "import opendota\n"
   ]
  },
  {
   "cell_type": "code",
   "execution_count": null,
   "metadata": {},
   "outputs": [],
   "source": [
    "pd.set_option(\"display.max_columns\", 20)\n",
    "pd.set_option(\"display.max_rows\", 100)"
   ]
  },
  {
   "cell_type": "code",
   "execution_count": null,
   "metadata": {},
   "outputs": [],
   "source": [
    "dota_teams = pd.read_csv(\"data/dota_teams.csv\")\n",
    "dota_teams.team_id = dota_teams.team_id + 1\n"
   ]
  },
  {
   "cell_type": "code",
   "execution_count": null,
   "metadata": {},
   "outputs": [],
   "source": [
    "# Initialize the API-connection object\n",
    "client = opendota.OpenDota()\n"
   ]
  },
  {
   "cell_type": "code",
   "execution_count": null,
   "metadata": {},
   "outputs": [],
   "source": [
    "df_teams = pd.DataFrame(client.get_teams())\n",
    "# drop teams that are not in dota_teams\n",
    "df_teams2 = df_teams[df_teams[\"name\"].isin(dota_teams[\"team_name\"].values)]\n",
    "df_teams2[\"team_id\"] = -1\n",
    "# set the team id in df_teams2 to the team id in dota_teams where the team names match\n",
    "for i in range(len(df_teams2)):\n",
    "    df_teams2[\"team_id\"].iloc[i] = dota_teams[\"team_id\"][\n",
    "        dota_teams[\"team_name\"] == df_teams2[\"name\"].iloc[i]\n",
    "    ].values[0]\n"
   ]
  },
  {
   "cell_type": "code",
   "execution_count": null,
   "metadata": {},
   "outputs": [],
   "source": [
    "# show the teams that are in dota_teams but not in df_teams2\n",
    "dota_teams[~dota_teams[\"team_name\"].isin(df_teams2[\"name\"].values)]\n"
   ]
  },
  {
   "cell_type": "code",
   "execution_count": null,
   "metadata": {},
   "outputs": [],
   "source": [
    "df_leagues = pd.DataFrame(client.get_leagues())\n"
   ]
  },
  {
   "cell_type": "code",
   "execution_count": null,
   "metadata": {},
   "outputs": [],
   "source": [
    "df_leagues[df_leagues[\"tier\"] == \"professional\"]\n"
   ]
  },
  {
   "cell_type": "code",
   "execution_count": null,
   "metadata": {},
   "outputs": [],
   "source": [
    "# show leageus where name has major in it\n",
    "df_leagues[df_leagues[\"name\"].str.contains(\"Major\")]"
   ]
  }
 ],
 "metadata": {
  "kernelspec": {
   "display_name": "rstools",
   "language": "python",
   "name": "python3"
  },
  "language_info": {
   "codemirror_mode": {
    "name": "ipython",
    "version": 3
   },
   "file_extension": ".py",
   "mimetype": "text/x-python",
   "name": "python",
   "nbconvert_exporter": "python",
   "pygments_lexer": "ipython3",
   "version": "3.8.15"
  },
  "orig_nbformat": 4,
  "vscode": {
   "interpreter": {
    "hash": "74433767b723a45c483350c3d47eaaf29169a313b081c7ff587871958aa1c787"
   }
  }
 },
 "nbformat": 4,
 "nbformat_minor": 2
}
