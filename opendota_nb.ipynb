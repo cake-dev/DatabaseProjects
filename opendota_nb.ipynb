{
 "cells": [
  {
   "cell_type": "code",
   "execution_count": null,
   "metadata": {},
   "outputs": [],
   "source": [
    "import pandas as pd\n",
    "import numpy as np\n",
    "\n",
    "# import libraries for API interaction\n",
    "import requests\n",
    "import json"
   ]
  },
  {
   "cell_type": "code",
   "execution_count": null,
   "metadata": {},
   "outputs": [],
   "source": [
    "import time\n",
    "import requests\n",
    "from bs4 import BeautifulSoup\n",
    "\n",
    "players = []\n",
    "\n",
    "# Loop through each player\n",
    "for player in players:\n",
    "    # Construct the URL for the player's Liquipedia page\n",
    "    url = f\"https://liquipedia.net/dota2/{player}\"\n",
    "    # wait before sending a new request\n",
    "    time.sleep(2)\n",
    "    # Send a GET request to the URL\n",
    "    response = requests.get(url)\n",
    "    # Parse the HTML content of the response using BeautifulSoup\n",
    "    soup = BeautifulSoup(response.content, 'html.parser')\n",
    "    # Find the player's infobox-image element if it exists\n",
    "    infobox_image_element = soup.find(\"div\", class_=\"infobox-image lightmode\")\n",
    "    if infobox_image_element is not None:\n",
    "        # Find the player's image element within the infobox-image element\n",
    "        img_element = infobox_image_element.find(\"img\")\n",
    "        # Get the URL of the player's image\n",
    "        img_url = \"https://liquipedia.net/\"+img_element[\"src\"]\n",
    "        # Download the player's image\n",
    "        response = requests.get(img_url)\n",
    "        # Construct the file name for the player's image\n",
    "        file_name = f\"dota2_images\\{player}.png\"\n",
    "        # print(f\"Saving {file_name}\")\n",
    "        # Save the player's image to a file\n",
    "        with open(file_name, \"wb\") as file:\n",
    "            file.write(response.content)\n",
    "    else:\n",
    "        print(f\"No image found for player {player}\")\n"
   ]
  },
  {
   "cell_type": "code",
   "execution_count": null,
   "metadata": {},
   "outputs": [],
   "source": [
    "pd.set_option(\"display.max_columns\", 20)\n",
    "pd.set_option(\"display.max_rows\", 100)"
   ]
  },
  {
   "cell_type": "code",
   "execution_count": null,
   "metadata": {},
   "outputs": [],
   "source": [
    "dota_teams = pd.read_csv(\"data/dota_teams.csv\")\n",
    "dota_teams.team_id = dota_teams.team_id + 1"
   ]
  },
  {
   "cell_type": "code",
   "execution_count": null,
   "metadata": {},
   "outputs": [],
   "source": [
    "# Initialize the API-connection object\n",
    "import opendota\n",
    "client = opendota.OpenDota()"
   ]
  },
  {
   "cell_type": "code",
   "execution_count": null,
   "metadata": {},
   "outputs": [],
   "source": [
    "# get item data\n",
    "items = client.get_items()\n",
    "items = pd.DataFrame(items)\n",
    "items"
   ]
  },
  {
   "cell_type": "code",
   "execution_count": null,
   "metadata": {},
   "outputs": [],
   "source": [
    "df_teams = pd.DataFrame(client.get_teams())\n",
    "# drop teams that are not in dota_teams\n",
    "df_teams2 = df_teams[df_teams[\"name\"].isin(dota_teams[\"team_name\"].values)]\n",
    "df_teams2[\"team_id\"] = -1\n",
    "# set the team id in df_teams2 to the team id in dota_teams where the team names match\n",
    "for i in range(len(df_teams2)):\n",
    "    df_teams2[\"team_id\"].iloc[i] = dota_teams[\"team_id\"][\n",
    "        dota_teams[\"team_name\"] == df_teams2[\"name\"].iloc[i]\n",
    "    ].values[0]"
   ]
  },
  {
   "cell_type": "code",
   "execution_count": null,
   "metadata": {},
   "outputs": [],
   "source": [
    "# show the teams that are in dota_teams but not in df_teams2\n",
    "dota_teams[~dota_teams[\"team_name\"].isin(df_teams2[\"name\"].values)]\n"
   ]
  },
  {
   "cell_type": "code",
   "execution_count": null,
   "metadata": {},
   "outputs": [],
   "source": [
    "df_leagues = pd.DataFrame(client.get_leagues())\n"
   ]
  },
  {
   "cell_type": "code",
   "execution_count": null,
   "metadata": {},
   "outputs": [],
   "source": [
    "df_leagues[df_leagues[\"tier\"] == \"professional\"]\n"
   ]
  },
  {
   "cell_type": "code",
   "execution_count": null,
   "metadata": {},
   "outputs": [],
   "source": [
    "# show leageus where name has major in it\n",
    "df_leagues[df_leagues[\"name\"].str.contains(\"Major\")]"
   ]
  },
  {
   "cell_type": "code",
   "execution_count": 4,
   "metadata": {},
   "outputs": [],
   "source": [
    "from liquipediapy import dota\n",
    "import pandas as pd\n",
    "dota_obj = dota(\"appname\")\n",
    "items = dota_obj.get_items()"
   ]
  },
  {
   "cell_type": "code",
   "execution_count": 10,
   "metadata": {},
   "outputs": [],
   "source": [
    "import time\n",
    "import requests"
   ]
  },
  {
   "cell_type": "code",
   "execution_count": null,
   "metadata": {},
   "outputs": [],
   "source": [
    "(265*2)/60"
   ]
  },
  {
   "cell_type": "code",
   "execution_count": 13,
   "metadata": {},
   "outputs": [
    {
     "name": "stdout",
     "output_type": "stream",
     "text": [
      "Saving dota2_images\\items\\Aghanim's_Shard.png\n",
      "Saving dota2_images\\items\\Bottle.png\n",
      "Saving dota2_images\\items\\Clarity.png\n",
      "Saving dota2_images\\items\\Dust_of_Appearance.png\n",
      "Saving dota2_images\\items\\Enchanted_Mango.png\n",
      "Saving dota2_images\\items\\Faerie_Fire.png\n",
      "Saving dota2_images\\items\\Healing_Salve.png\n",
      "Saving dota2_images\\items\\Observer_Ward.png\n",
      "Saving dota2_images\\items\\Sentry_Ward.png\n",
      "Saving dota2_images\\items\\Smoke_of_Deceit.png\n",
      "Saving dota2_images\\items\\Tango.png\n",
      "Saving dota2_images\\items\\Tome_of_Knowledge.png\n",
      "Saving dota2_images\\items\\Town_Portal_Scroll.png\n",
      "Saving dota2_images\\items\\Band_of_Elvenskin.png\n",
      "Saving dota2_images\\items\\Belt_of_Strength.png\n",
      "Saving dota2_images\\items\\Blade_of_Alacrity.png\n",
      "Saving dota2_images\\items\\Circlet.png\n",
      "Saving dota2_images\\items\\Crown.png\n",
      "Saving dota2_images\\items\\Gauntlets_of_Strength.png\n",
      "Saving dota2_images\\items\\Iron_Branch.png\n",
      "Saving dota2_images\\items\\Mantle_of_Intelligence.png\n",
      "Saving dota2_images\\items\\Ogre_Axe.png\n",
      "Saving dota2_images\\items\\Robe_of_the_Magi.png\n",
      "Saving dota2_images\\items\\Slippers_of_Agility.png\n",
      "Saving dota2_images\\items\\Staff_of_Wizardry.png\n",
      "Saving dota2_images\\items\\Blades_of_Attack.png\n",
      "Saving dota2_images\\items\\Blight_Stone.png\n",
      "Saving dota2_images\\items\\Broadsword.png\n",
      "Saving dota2_images\\items\\Chainmail.png\n",
      "Saving dota2_images\\items\\Claymore.png\n",
      "Saving dota2_images\\items\\Gloves_of_Haste.png\n",
      "Saving dota2_images\\items\\Helm_of_Iron_Will.png\n",
      "Saving dota2_images\\items\\Infused_Raindrops.png\n",
      "Saving dota2_images\\items\\Javelin.png\n",
      "Saving dota2_images\\items\\Mithril_Hammer.png\n",
      "Saving dota2_images\\items\\Orb_of_Venom.png\n",
      "Saving dota2_images\\items\\Quarterstaff.png\n",
      "Saving dota2_images\\items\\Quelling_Blade.png\n",
      "Saving dota2_images\\items\\Ring_of_Protection.png\n",
      "Saving dota2_images\\items\\Blink_Dagger.png\n",
      "Saving dota2_images\\items\\Blitz_Knuckles.png\n",
      "Saving dota2_images\\items\\Boots_of_Speed.png\n",
      "Saving dota2_images\\items\\Cloak.png\n",
      "Saving dota2_images\\items\\Fluffy_Hat.png\n",
      "Saving dota2_images\\items\\Gem_of_True_Sight.png\n",
      "Saving dota2_images\\items\\Ghost_Scepter.png\n",
      "Saving dota2_images\\items\\Magic_Stick.png\n",
      "Saving dota2_images\\items\\Morbid_Mask.png\n",
      "Saving dota2_images\\items\\Ring_of_Regen.png\n",
      "Saving dota2_images\\items\\Sage's_Mask.png\n",
      "Saving dota2_images\\items\\Shadow_Amulet.png\n",
      "Saving dota2_images\\items\\Voodoo_Mask.png\n",
      "Saving dota2_images\\items\\Wind_Lace.png\n",
      "Saving dota2_images\\items\\Demon_Edge.png\n",
      "Saving dota2_images\\items\\Eaglesong.png\n",
      "Saving dota2_images\\items\\Energy_Booster.png\n",
      "Saving dota2_images\\items\\Hyperstone.png\n",
      "Saving dota2_images\\items\\Mystic_Staff.png\n",
      "Saving dota2_images\\items\\Platemail.png\n",
      "Saving dota2_images\\items\\Point_Booster.png\n",
      "Saving dota2_images\\items\\Reaver.png\n",
      "Saving dota2_images\\items\\Ring_of_Health.png\n",
      "Saving dota2_images\\items\\Sacred_Relic.png\n",
      "Saving dota2_images\\items\\Talisman_of_Evasion.png\n",
      "Saving dota2_images\\items\\Ultimate_Orb.png\n",
      "Saving dota2_images\\items\\Vitality_Booster.png\n",
      "Saving dota2_images\\items\\Void_Stone.png\n",
      "Saving dota2_images\\items\\Aegis_of_the_Immortal.png\n",
      "Saving dota2_images\\items\\Aghanim's_Blessing.png\n",
      "Saving dota2_images\\items\\Cheese.png\n",
      "Saving dota2_images\\items\\Refresher_Shard.png\n",
      "Saving dota2_images\\items\\Boots_of_Travel.png\n",
      "Saving dota2_images\\items\\Bracer.png\n",
      "Saving dota2_images\\items\\Falcon_Blade.png\n",
      "Saving dota2_images\\items\\Hand_of_Midas.png\n",
      "Saving dota2_images\\items\\Helm_of_the_Dominator.png\n",
      "Saving dota2_images\\items\\Helm_of_the_Overlord.png\n",
      "Saving dota2_images\\items\\Magic_Wand.png\n",
      "Saving dota2_images\\items\\Mask_of_Madness.png\n",
      "Saving dota2_images\\items\\Moon_Shard.png\n",
      "Saving dota2_images\\items\\Null_Talisman.png\n",
      "Saving dota2_images\\items\\Oblivion_Staff.png\n",
      "Saving dota2_images\\items\\Orb_of_Corrosion.png\n",
      "Saving dota2_images\\items\\Perseverance.png\n",
      "Saving dota2_images\\items\\Phase_Boots.png\n",
      "Saving dota2_images\\items\\Power_Treads.png\n",
      "Saving dota2_images\\items\\Soul_Ring.png\n",
      "Saving dota2_images\\items\\Wraith_Band.png\n",
      "Saving dota2_images\\items\\Arcane_Boots.png\n",
      "Saving dota2_images\\items\\Boots_of_Bearing.png\n",
      "Saving dota2_images\\items\\Buckler.png\n",
      "Saving dota2_images\\items\\Drum_of_Endurance.png\n",
      "Saving dota2_images\\items\\Guardian_Greaves.png\n"
     ]
    },
    {
     "ename": "KeyboardInterrupt",
     "evalue": "",
     "output_type": "error",
     "traceback": [
      "\u001b[1;31m---------------------------------------------------------------------------\u001b[0m",
      "\u001b[1;31mKeyboardInterrupt\u001b[0m                         Traceback (most recent call last)",
      "\u001b[1;32mc:\\Users\\bovam\\Documents\\Code\\Projects\\Database\\DatabaseProjects\\opendota_nb.ipynb Cell 15\u001b[0m in \u001b[0;36m<cell line: 2>\u001b[1;34m()\u001b[0m\n\u001b[0;32m      <a href='vscode-notebook-cell:/c%3A/Users/bovam/Documents/Code/Projects/Database/DatabaseProjects/opendota_nb.ipynb#X15sZmlsZQ%3D%3D?line=1'>2</a>\u001b[0m \u001b[39mfor\u001b[39;00m item \u001b[39min\u001b[39;00m items:\n\u001b[0;32m      <a href='vscode-notebook-cell:/c%3A/Users/bovam/Documents/Code/Projects/Database/DatabaseProjects/opendota_nb.ipynb#X15sZmlsZQ%3D%3D?line=2'>3</a>\u001b[0m     url \u001b[39m=\u001b[39m item[\u001b[39m'\u001b[39m\u001b[39mimage\u001b[39m\u001b[39m'\u001b[39m]\n\u001b[1;32m----> <a href='vscode-notebook-cell:/c%3A/Users/bovam/Documents/Code/Projects/Database/DatabaseProjects/opendota_nb.ipynb#X15sZmlsZQ%3D%3D?line=3'>4</a>\u001b[0m     time\u001b[39m.\u001b[39;49msleep(\u001b[39m2\u001b[39;49m)\n\u001b[0;32m      <a href='vscode-notebook-cell:/c%3A/Users/bovam/Documents/Code/Projects/Database/DatabaseProjects/opendota_nb.ipynb#X15sZmlsZQ%3D%3D?line=4'>5</a>\u001b[0m     response \u001b[39m=\u001b[39m requests\u001b[39m.\u001b[39mget(url)\n\u001b[0;32m      <a href='vscode-notebook-cell:/c%3A/Users/bovam/Documents/Code/Projects/Database/DatabaseProjects/opendota_nb.ipynb#X15sZmlsZQ%3D%3D?line=5'>6</a>\u001b[0m     file_name \u001b[39m=\u001b[39m \u001b[39mf\u001b[39m\u001b[39m\"\u001b[39m\u001b[39mdota2_images\u001b[39m\u001b[39m\\\u001b[39m\u001b[39mitems\u001b[39m\u001b[39m\\\u001b[39m\u001b[39m{\u001b[39;00mitem[\u001b[39m'\u001b[39m\u001b[39mname\u001b[39m\u001b[39m'\u001b[39m]\u001b[39m.\u001b[39mreplace(\u001b[39m'\u001b[39m\u001b[39m \u001b[39m\u001b[39m'\u001b[39m, \u001b[39m'\u001b[39m\u001b[39m_\u001b[39m\u001b[39m'\u001b[39m)\u001b[39m}\u001b[39;00m\u001b[39m.png\u001b[39m\u001b[39m\"\u001b[39m\n",
      "\u001b[1;31mKeyboardInterrupt\u001b[0m: "
     ]
    }
   ],
   "source": [
    "# download images for items, save the file name as the item name, with an underscore instead of a space\n",
    "import os\n",
    "for item in items:\n",
    "    url = item['image']\n",
    "    file_name = f\"dota2_images\\items\\{item['name'].replace(' ', '_')}.png\"\n",
    "    if not os.path.isfile(file_name):\n",
    "        time.sleep(2)\n",
    "        response = requests.get(url)\n",
    "        print(f\"Saving {file_name}\")\n",
    "        with open(file_name, \"wb\") as file:\n",
    "            file.write(response.content)\n",
    "            "
   ]
  }
 ],
 "metadata": {
  "kernelspec": {
   "display_name": "rstools",
   "language": "python",
   "name": "python3"
  },
  "language_info": {
   "codemirror_mode": {
    "name": "ipython",
    "version": 3
   },
   "file_extension": ".py",
   "mimetype": "text/x-python",
   "name": "python",
   "nbconvert_exporter": "python",
   "pygments_lexer": "ipython3",
   "version": "3.10.4"
  },
  "orig_nbformat": 4,
  "vscode": {
   "interpreter": {
    "hash": "74433767b723a45c483350c3d47eaaf29169a313b081c7ff587871958aa1c787"
   }
  }
 },
 "nbformat": 4,
 "nbformat_minor": 2
}
