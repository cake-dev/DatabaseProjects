{
 "cells": [
  {
   "cell_type": "code",
   "execution_count": 1,
   "metadata": {},
   "outputs": [],
   "source": [
    "import pandas as pd\n",
    "import numpy as np\n",
    "import matplotlib.pyplot as plt\n",
    "import seaborn as sns\n",
    "import os\n",
    "\n",
    "# import the required libraries for web scraping\n",
    "from bs4 import BeautifulSoup\n",
    "import requests\n",
    "import re\n",
    "import time\n",
    "import random"
   ]
  },
  {
   "cell_type": "code",
   "execution_count": 2,
   "metadata": {},
   "outputs": [],
   "source": [
    "pd.set_option('display.max_columns', 30)\n",
    "pd.set_option('display.max_rows', 200)"
   ]
  },
  {
   "cell_type": "code",
   "execution_count": 3,
   "metadata": {},
   "outputs": [],
   "source": [
    "dota_players = pd.read_csv('data/dota_players_new.csv')\n",
    "dota_teams = pd.read_csv('data/dota_teams.csv')\n",
    "dota_heroes = pd.read_csv('data/dota_heroes.csv')\n",
    "hero_stats = pd.read_csv('data/hero_stats.csv')"
   ]
  },
  {
   "cell_type": "code",
   "execution_count": 4,
   "metadata": {},
   "outputs": [],
   "source": [
    "dota_players[\"rank\"] = 0"
   ]
  },
  {
   "cell_type": "code",
   "execution_count": 11,
   "metadata": {},
   "outputs": [],
   "source": [
    "# randomly assign ranks to players, 1 being the highest rank, # players being the lowest rank, use each rank once\n",
    "for i in range(1, len(dota_players)):\n",
    "    rank = random.randint(1, len(dota_players))\n",
    "    while rank in dota_players[\"rank\"].values:\n",
    "        rank = random.randint(1, len(dota_players))\n",
    "    dota_players.loc[i, \"rank\"] = rank"
   ]
  },
  {
   "cell_type": "code",
   "execution_count": 9,
   "metadata": {},
   "outputs": [
    {
     "data": {
      "text/plain": [
       "0        0\n",
       "1      249\n",
       "2      299\n",
       "3      237\n",
       "4      334\n",
       "      ... \n",
       "372    255\n",
       "373    194\n",
       "374    372\n",
       "375     50\n",
       "376     34\n",
       "Name: rank, Length: 377, dtype: int64"
      ]
     },
     "execution_count": 9,
     "metadata": {},
     "output_type": "execute_result"
    }
   ],
   "source": [
    "dota_players[\"rank\"]"
   ]
  },
  {
   "cell_type": "code",
   "execution_count": 20,
   "metadata": {},
   "outputs": [],
   "source": [
    "# drop rows where the player has no team (0)\n",
    "dota_players = dota_players[dota_players['team_id'] != 0]"
   ]
  },
  {
   "cell_type": "code",
   "execution_count": 12,
   "metadata": {},
   "outputs": [],
   "source": [
    "dota_players.to_csv('data/dota_players_new2.csv', index=False)"
   ]
  },
  {
   "cell_type": "code",
   "execution_count": 16,
   "metadata": {},
   "outputs": [
    {
     "name": "stderr",
     "output_type": "stream",
     "text": [
      "/tmp/ipykernel_9035/4283525675.py:5: SettingWithCopyWarning: \n",
      "A value is trying to be set on a copy of a slice from a DataFrame\n",
      "\n",
      "See the caveats in the documentation: https://pandas.pydata.org/pandas-docs/stable/user_guide/indexing.html#returning-a-view-versus-a-copy\n",
      "  dota_players['team_id'][i] = dota_teams['team_id'][j]\n"
     ]
    }
   ],
   "source": [
    "# set the team_id in dota_players to match the team_id in dota_teams where team_name matches\n",
    "for i in range(len(dota_players)):\n",
    "    for j in range(len(dota_teams)):\n",
    "        if dota_players['team_name'][i] == dota_teams['team_name'][j]:\n",
    "            dota_players['team_id'][i] = dota_teams['team_id'][j]"
   ]
  },
  {
   "cell_type": "code",
   "execution_count": null,
   "metadata": {},
   "outputs": [],
   "source": [
    "# drop the row where Hero is Outworld Devourer\n",
    "hero_stats = hero_stats[hero_stats['Hero'] != 'Outworld Devourer']"
   ]
  },
  {
   "cell_type": "code",
   "execution_count": null,
   "metadata": {},
   "outputs": [],
   "source": [
    "# hero_stats.HERO_ID = hero_stats.index\n",
    "# hero_stats.drop(columns=['Unnamed: 0', 'index'], inplace=True)\n",
    "hero_stats.HERO_ID = hero_stats.HERO_ID + 1"
   ]
  },
  {
   "cell_type": "code",
   "execution_count": null,
   "metadata": {},
   "outputs": [],
   "source": [
    "hero_stats"
   ]
  },
  {
   "cell_type": "code",
   "execution_count": null,
   "metadata": {},
   "outputs": [],
   "source": [
    "single_performances = pd.read_csv('data/datdota_singleperformances.csv')"
   ]
  },
  {
   "cell_type": "code",
   "execution_count": null,
   "metadata": {},
   "outputs": [],
   "source": [
    "single_performances"
   ]
  },
  {
   "cell_type": "code",
   "execution_count": null,
   "metadata": {},
   "outputs": [],
   "source": [
    "# get a list of how gpm scales with kills and last hits\n",
    "gpm_kills = single_performances.groupby('Kills')['GPM'].mean()\n",
    "gpm_lh = single_performances.groupby('Last Hits')['GPM'].mean()\n",
    "xpm_kills = single_performances.groupby('Kills')['XPM'].mean()\n",
    "xpm_lh = single_performances.groupby('Last Hits')['XPM'].mean()\n",
    "xpm_level = single_performances.groupby('LVL')['XPM'].mean()\n",
    "\n",
    "# plot the data\n",
    "fig, ax = plt.subplots(figsize=(10, 6))\n",
    "fig2, ax2 = plt.subplots(figsize=(10, 6))\n",
    "ax.plot(gpm_kills.index, gpm_kills.values, label='GPM per kill')\n",
    "ax2.plot(gpm_lh.index, gpm_lh.values, label='GPM per last hit')\n",
    "ax.set_xlabel('Kills')\n",
    "ax.set_ylabel('GPM')\n",
    "ax2.set_xlabel('Last Hits')\n",
    "ax2.set_ylabel('GPM')\n",
    "ax2.legend()\n",
    "ax.legend()\n",
    "plt.show()"
   ]
  },
  {
   "cell_type": "code",
   "execution_count": null,
   "metadata": {},
   "outputs": [],
   "source": [
    "# drop the major outliers in single_performances\n",
    "single_performances = single_performances[single_performances['Kills'] < 30]"
   ]
  },
  {
   "cell_type": "code",
   "execution_count": null,
   "metadata": {},
   "outputs": [],
   "source": [
    "# get the value ranges for all columns in single_performances sorted by hero, ignoring Match, Player, Result, and End Game Items\n",
    "hero_stats = single_performances.drop(['Match', 'Player', 'Result', 'End Game Items', 'KDA'], axis=1).groupby('Hero').agg(['min', 'max', 'mean'])"
   ]
  },
  {
   "cell_type": "code",
   "execution_count": null,
   "metadata": {},
   "outputs": [],
   "source": [
    "# get the value ranges for all columns in single_performances and put them in a dictionary\n",
    "value_ranges = {}\n",
    "value_averages = {}\n",
    "for col in single_performances.columns:\n",
    "    if col != 'Match' and col != 'Hero' and col != 'Player' and col != 'Result' and col != 'End Game Items':\n",
    "        value_ranges[col] = [min(single_performances[col]), max(single_performances[col])]\n",
    "        value_averages[col] = np.mean(single_performances[col])\n",
    "value_ranges"
   ]
  },
  {
   "cell_type": "code",
   "execution_count": null,
   "metadata": {},
   "outputs": [],
   "source": [
    "player_options = dota_players['ID'].unique()"
   ]
  },
  {
   "cell_type": "code",
   "execution_count": null,
   "metadata": {},
   "outputs": [],
   "source": [
    "# a class to store single performance data\n",
    "class SinglePerformance:\n",
    "    def __init__(\n",
    "        self,\n",
    "        match_id,\n",
    "        player_id,\n",
    "        hero_id,\n",
    "        kills,\n",
    "        deaths,\n",
    "        assists,\n",
    "        last_hits,\n",
    "        denies,\n",
    "        gpm,\n",
    "        xpm,\n",
    "        hero_damage,\n",
    "        tower_damage,\n",
    "        hero_healing,\n",
    "        level,\n",
    "        win,\n",
    "    ):\n",
    "        self.match_id = match_id\n",
    "        self.player_id = player_id\n",
    "        self.hero_id = hero_id\n",
    "        self.kills = kills\n",
    "        self.deaths = deaths\n",
    "        self.assists = assists\n",
    "        self.last_hits = last_hits\n",
    "        self.denies = denies\n",
    "        self.gpm = gpm\n",
    "        self.xpm = xpm\n",
    "        self.hero_damage = hero_damage\n",
    "        self.tower_damage = tower_damage\n",
    "        self.hero_healing = hero_healing\n",
    "        self.level = level\n",
    "        self.win = win\n",
    "\n",
    "    def get_info(self):\n",
    "        return {\n",
    "            \"Match\": self.match_id,\n",
    "            \"Player\": self.player_id,\n",
    "            \"Hero\": self.hero_id,\n",
    "            \"Kills\": self.kills,\n",
    "            \"Deaths\": self.deaths,\n",
    "            \"Assists\": self.assists,\n",
    "            \"Last_Hits\": self.last_hits,\n",
    "            \"Denies\": self.denies,\n",
    "            \"GPM\": self.gpm,\n",
    "            \"XPM\": self.xpm,\n",
    "            \"Hero_Damage\": self.hero_damage,\n",
    "            \"Tower_Damage\": self.tower_damage,\n",
    "            \"Hero_Healing\": self.hero_healing,\n",
    "            \"Level\": self.level,\n",
    "            \"Win\": self.win,\n",
    "        }"
   ]
  },
  {
   "cell_type": "code",
   "execution_count": null,
   "metadata": {},
   "outputs": [],
   "source": [
    "# drop heroes from dota_heroes that are not in hero_stats\n",
    "dota_heroes = dota_heroes[dota_heroes['HERO'].isin(hero_stats.Hero)]"
   ]
  },
  {
   "cell_type": "code",
   "execution_count": null,
   "metadata": {},
   "outputs": [],
   "source": [
    "# drop the row where Hero is Outworld Devourer\n",
    "hero_stats = hero_stats[hero_stats['Hero'] != 'Outworld Devourer']"
   ]
  },
  {
   "cell_type": "code",
   "execution_count": null,
   "metadata": {},
   "outputs": [],
   "source": [
    "# a function to create random match data. it accepts 2 arrays of player ids. it returns a list of 10 SinglePerformance objects. The hero ids are randomly selected from the list of heroes, and if a hero has already been chosen, choose a new one. The stats are generated based on the hero values in hero_stats.\n",
    "def create_random_match(players1, players2):\n",
    "    # drop players if there are more than 5\n",
    "    if len(players1) > 5:\n",
    "        players1 = players1[:5]\n",
    "    if len(players2) > 5:\n",
    "        players2 = players2[:5]\n",
    "\n",
    "    match_id = random.randint(100000, 999999)\n",
    "    performances = []\n",
    "    for player in players1:\n",
    "        # select a random hero\n",
    "        hero_id = random.choice(dota_heroes['HERO_ID'].values)\n",
    "        while hero_id in [x.hero_id for x in performances]:\n",
    "            hero_id = random.choice(dota_heroes['HERO_ID'].values)\n",
    "        kills = random.randint(hero_stats.loc[hero_id]['Kills_Min'], hero_stats.loc[hero_id]['Kills_Max'])\n",
    "        deaths = random.randint(hero_stats.loc[hero_id]['Deaths_Min'], hero_stats.loc[hero_id]['Deaths_Max'])\n",
    "        assists = random.randint(hero_stats.loc[hero_id]['Assists_Min'], hero_stats.loc[hero_id]['Assists_Max'])\n",
    "        last_hits = random.randint(hero_stats.loc[hero_id]['LH_Min'], hero_stats.loc[hero_id]['LH_Max'])\n",
    "        denies = random.randint(hero_stats.loc[hero_id]['Denies_Min'], hero_stats.loc[hero_id]['Denies_Max'])\n",
    "        gpm = random.randint(hero_stats.loc[hero_id]['GPM_Min'], hero_stats.loc[hero_id]['GPM_Max'])\n",
    "        xpm = random.randint(hero_stats.loc[hero_id]['XPM_Min'], hero_stats.loc[hero_id]['XPM_Max'])\n",
    "        hero_damage = random.randint(hero_stats.loc[hero_id]['HD_Min'], hero_stats.loc[hero_id]['HD_Max'])\n",
    "        tower_damage = random.randint(hero_stats.loc[hero_id]['TD_Min'], hero_stats.loc[hero_id]['TD_Max'])\n",
    "        hero_healing = random.randint(hero_stats.loc[hero_id]['HH_Min'], hero_stats.loc[hero_id]['HH_Max'])\n",
    "        level = random.randint(hero_stats.loc[hero_id]['LVL_Min'], hero_stats.loc[hero_id]['LVL_Max'])\n",
    "        win = -1\n",
    "\n",
    "        performances.append(SinglePerformance(match_id, player, hero_id, kills, deaths, assists, last_hits, denies, gpm, xpm, hero_damage, tower_damage, hero_healing, level, win))\n",
    "\n",
    "    for player in players2:\n",
    "        # select a random hero\n",
    "        hero_id = random.choice(dota_heroes['HERO_ID'].values)\n",
    "        while hero_id in [x.hero_id for x in performances]:\n",
    "            hero_id = random.choice(dota_heroes['HERO_ID'].values)\n",
    "        kills = random.randint(hero_stats.loc[hero_id]['Kills_Min'], hero_stats.loc[hero_id]['Kills_Max'])\n",
    "        deaths = random.randint(hero_stats.loc[hero_id]['Deaths_Min'], hero_stats.loc[hero_id]['Deaths_Max'])\n",
    "        assists = random.randint(hero_stats.loc[hero_id]['Assists_Min'], hero_stats.loc[hero_id]['Assists_Max'])\n",
    "        last_hits = random.randint(hero_stats.loc[hero_id]['LH_Min'], hero_stats.loc[hero_id]['LH_Max'])\n",
    "        denies = random.randint(hero_stats.loc[hero_id]['Denies_Min'], hero_stats.loc[hero_id]['Denies_Max'])\n",
    "        gpm = random.randint(hero_stats.loc[hero_id]['GPM_Min'], hero_stats.loc[hero_id]['GPM_Max'])\n",
    "        xpm = random.randint(hero_stats.loc[hero_id]['XPM_Min'], hero_stats.loc[hero_id]['XPM_Max'])\n",
    "        hero_damage = random.randint(hero_stats.loc[hero_id]['HD_Min'], hero_stats.loc[hero_id]['HD_Max'])\n",
    "        tower_damage = random.randint(hero_stats.loc[hero_id]['TD_Min'], hero_stats.loc[hero_id]['TD_Max'])\n",
    "        hero_healing = random.randint(hero_stats.loc[hero_id]['HH_Min'], hero_stats.loc[hero_id]['HH_Max'])\n",
    "        level = random.randint(hero_stats.loc[hero_id]['LVL_Min'], hero_stats.loc[hero_id]['LVL_Max'])\n",
    "        win = -1\n",
    "\n",
    "        performances.append(SinglePerformance(match_id, player, hero_id, kills, deaths, assists, last_hits, denies, gpm, xpm, hero_damage, tower_damage, hero_healing, level, win))\n",
    "\n",
    "    # set the team with the least deaths as the winning team\n",
    "    if sum([x.deaths for x in performances[:5]]) > sum([x.deaths for x in performances[5:]]):\n",
    "        for performance in performances[5:]:\n",
    "            performance.win = 1\n",
    "        for performance in performances[:5]:\n",
    "            performance.win = 0\n",
    "    else:\n",
    "        for performance in performances[:5]:\n",
    "            performance.win = 1\n",
    "        for performance in performances[5:]:\n",
    "            performance.win = 0\n",
    "        \n",
    "\n",
    "    for performance in performances:\n",
    "        performances[performances.index(performance)] = performance.get_info()\n",
    "    return pd.DataFrame(performances)"
   ]
  },
  {
   "cell_type": "code",
   "execution_count": null,
   "metadata": {},
   "outputs": [],
   "source": [
    "randommatch = create_random_match([\"A\", \"B\", \"C\", \"D\", \"E\"],[ \"F\", \"G\", \"H\", \"I\", \"J\"])\n",
    "randommatch"
   ]
  },
  {
   "cell_type": "code",
   "execution_count": null,
   "metadata": {},
   "outputs": [],
   "source": [
    "# convert all hero_stats columns to integers except for the Hero column\n",
    "for col in hero_stats.columns:\n",
    "    if col != 'Hero':\n",
    "        hero_stats[col] = hero_stats[col].astype(float).astype(int)"
   ]
  },
  {
   "cell_type": "code",
   "execution_count": null,
   "metadata": {},
   "outputs": [],
   "source": [
    "# create a dataframe of dataframes for each team_name in dota_players\n",
    "team_dataframes = {}\n",
    "for team_name in dota_players['team_name'].unique():\n",
    "    team_dataframes[team_name] = dota_players[dota_players['team_name'] == team_name]\n",
    "\n",
    "# get a subframe of all teams with at least 5 players\n",
    "team_dataframes_5 = {k: v for k, v in team_dataframes.items() if len(v) >= 5}\n",
    "\n",
    "# get a list of all team names in team_dataframes_5\n",
    "team_names = list(team_dataframes_5.keys())"
   ]
  },
  {
   "cell_type": "code",
   "execution_count": null,
   "metadata": {},
   "outputs": [],
   "source": [
    "# get a subframe of all teams with at least 5 players\n",
    "team_dataframes_5 = {k: v for k, v in team_dataframes.items() if len(v) >= 5}"
   ]
  },
  {
   "cell_type": "code",
   "execution_count": null,
   "metadata": {},
   "outputs": [],
   "source": [
    "# get a list of all team names in team_dataframes_5\n",
    "team_names = list(team_dataframes_5.keys())"
   ]
  },
  {
   "cell_type": "code",
   "execution_count": null,
   "metadata": {},
   "outputs": [],
   "source": [
    "team_dataframes_5[\"Alliance.LATAM\"]"
   ]
  },
  {
   "cell_type": "code",
   "execution_count": null,
   "metadata": {},
   "outputs": [],
   "source": [
    "# a function to select 2 random teams from team_names, then create a random match between their players\n",
    "def create_random_match_data():\n",
    "    # select 2 random teams\n",
    "    team1 = random.choice(team_names)\n",
    "    team2 = random.choice(team_names)\n",
    "    while team1 == team2:\n",
    "        team2 = random.choice(team_names)\n",
    "\n",
    "    # create a random match between the 2 teams\n",
    "    randommatch = create_random_match(team_dataframes_5[team1]['p_id'].values, team_dataframes_5[team2]['p_id'].values)\n",
    "\n",
    "    return randommatch"
   ]
  },
  {
   "cell_type": "code",
   "execution_count": 429,
   "metadata": {},
   "outputs": [
    {
     "data": {
      "text/html": [
       "<div>\n",
       "<style scoped>\n",
       "    .dataframe tbody tr th:only-of-type {\n",
       "        vertical-align: middle;\n",
       "    }\n",
       "\n",
       "    .dataframe tbody tr th {\n",
       "        vertical-align: top;\n",
       "    }\n",
       "\n",
       "    .dataframe thead th {\n",
       "        text-align: right;\n",
       "    }\n",
       "</style>\n",
       "<table border=\"1\" class=\"dataframe\">\n",
       "  <thead>\n",
       "    <tr style=\"text-align: right;\">\n",
       "      <th></th>\n",
       "      <th>Match</th>\n",
       "      <th>Player</th>\n",
       "      <th>Hero</th>\n",
       "      <th>Kills</th>\n",
       "      <th>Deaths</th>\n",
       "      <th>Assists</th>\n",
       "      <th>Last_Hits</th>\n",
       "      <th>Denies</th>\n",
       "      <th>GPM</th>\n",
       "      <th>XPM</th>\n",
       "      <th>Hero_Damage</th>\n",
       "      <th>Tower_Damage</th>\n",
       "      <th>Hero_Healing</th>\n",
       "      <th>Level</th>\n",
       "      <th>Win</th>\n",
       "    </tr>\n",
       "  </thead>\n",
       "  <tbody>\n",
       "    <tr>\n",
       "      <th>0</th>\n",
       "      <td>140011</td>\n",
       "      <td>199</td>\n",
       "      <td>49</td>\n",
       "      <td>5</td>\n",
       "      <td>7</td>\n",
       "      <td>6</td>\n",
       "      <td>32</td>\n",
       "      <td>6</td>\n",
       "      <td>307</td>\n",
       "      <td>472</td>\n",
       "      <td>10028</td>\n",
       "      <td>384</td>\n",
       "      <td>104</td>\n",
       "      <td>20</td>\n",
       "      <td>1</td>\n",
       "    </tr>\n",
       "    <tr>\n",
       "      <th>1</th>\n",
       "      <td>140011</td>\n",
       "      <td>200</td>\n",
       "      <td>42</td>\n",
       "      <td>9</td>\n",
       "      <td>0</td>\n",
       "      <td>24</td>\n",
       "      <td>52</td>\n",
       "      <td>6</td>\n",
       "      <td>270</td>\n",
       "      <td>279</td>\n",
       "      <td>36364</td>\n",
       "      <td>1606</td>\n",
       "      <td>10544</td>\n",
       "      <td>17</td>\n",
       "      <td>1</td>\n",
       "    </tr>\n",
       "    <tr>\n",
       "      <th>2</th>\n",
       "      <td>140011</td>\n",
       "      <td>201</td>\n",
       "      <td>26</td>\n",
       "      <td>2</td>\n",
       "      <td>4</td>\n",
       "      <td>16</td>\n",
       "      <td>229</td>\n",
       "      <td>25</td>\n",
       "      <td>549</td>\n",
       "      <td>555</td>\n",
       "      <td>35580</td>\n",
       "      <td>20909</td>\n",
       "      <td>48</td>\n",
       "      <td>26</td>\n",
       "      <td>1</td>\n",
       "    </tr>\n",
       "    <tr>\n",
       "      <th>3</th>\n",
       "      <td>140011</td>\n",
       "      <td>202</td>\n",
       "      <td>116</td>\n",
       "      <td>11</td>\n",
       "      <td>3</td>\n",
       "      <td>17</td>\n",
       "      <td>135</td>\n",
       "      <td>24</td>\n",
       "      <td>511</td>\n",
       "      <td>857</td>\n",
       "      <td>21349</td>\n",
       "      <td>351</td>\n",
       "      <td>919</td>\n",
       "      <td>20</td>\n",
       "      <td>1</td>\n",
       "    </tr>\n",
       "    <tr>\n",
       "      <th>4</th>\n",
       "      <td>140011</td>\n",
       "      <td>203</td>\n",
       "      <td>97</td>\n",
       "      <td>4</td>\n",
       "      <td>5</td>\n",
       "      <td>25</td>\n",
       "      <td>147</td>\n",
       "      <td>11</td>\n",
       "      <td>338</td>\n",
       "      <td>567</td>\n",
       "      <td>17787</td>\n",
       "      <td>6396</td>\n",
       "      <td>9981</td>\n",
       "      <td>27</td>\n",
       "      <td>1</td>\n",
       "    </tr>\n",
       "    <tr>\n",
       "      <th>5</th>\n",
       "      <td>140011</td>\n",
       "      <td>145</td>\n",
       "      <td>29</td>\n",
       "      <td>1</td>\n",
       "      <td>9</td>\n",
       "      <td>11</td>\n",
       "      <td>25</td>\n",
       "      <td>3</td>\n",
       "      <td>285</td>\n",
       "      <td>450</td>\n",
       "      <td>17156</td>\n",
       "      <td>140</td>\n",
       "      <td>151</td>\n",
       "      <td>15</td>\n",
       "      <td>0</td>\n",
       "    </tr>\n",
       "    <tr>\n",
       "      <th>6</th>\n",
       "      <td>140011</td>\n",
       "      <td>146</td>\n",
       "      <td>72</td>\n",
       "      <td>2</td>\n",
       "      <td>8</td>\n",
       "      <td>28</td>\n",
       "      <td>105</td>\n",
       "      <td>0</td>\n",
       "      <td>318</td>\n",
       "      <td>564</td>\n",
       "      <td>16633</td>\n",
       "      <td>318</td>\n",
       "      <td>14045</td>\n",
       "      <td>23</td>\n",
       "      <td>0</td>\n",
       "    </tr>\n",
       "    <tr>\n",
       "      <th>7</th>\n",
       "      <td>140011</td>\n",
       "      <td>147</td>\n",
       "      <td>11</td>\n",
       "      <td>11</td>\n",
       "      <td>1</td>\n",
       "      <td>12</td>\n",
       "      <td>429</td>\n",
       "      <td>7</td>\n",
       "      <td>752</td>\n",
       "      <td>737</td>\n",
       "      <td>25044</td>\n",
       "      <td>10319</td>\n",
       "      <td>0</td>\n",
       "      <td>21</td>\n",
       "      <td>0</td>\n",
       "    </tr>\n",
       "    <tr>\n",
       "      <th>8</th>\n",
       "      <td>140011</td>\n",
       "      <td>148</td>\n",
       "      <td>104</td>\n",
       "      <td>7</td>\n",
       "      <td>5</td>\n",
       "      <td>11</td>\n",
       "      <td>159</td>\n",
       "      <td>21</td>\n",
       "      <td>423</td>\n",
       "      <td>567</td>\n",
       "      <td>22967</td>\n",
       "      <td>494</td>\n",
       "      <td>3708</td>\n",
       "      <td>15</td>\n",
       "      <td>0</td>\n",
       "    </tr>\n",
       "    <tr>\n",
       "      <th>9</th>\n",
       "      <td>140011</td>\n",
       "      <td>149</td>\n",
       "      <td>1</td>\n",
       "      <td>3</td>\n",
       "      <td>6</td>\n",
       "      <td>16</td>\n",
       "      <td>40</td>\n",
       "      <td>2</td>\n",
       "      <td>320</td>\n",
       "      <td>484</td>\n",
       "      <td>12624</td>\n",
       "      <td>589</td>\n",
       "      <td>0</td>\n",
       "      <td>20</td>\n",
       "      <td>0</td>\n",
       "    </tr>\n",
       "  </tbody>\n",
       "</table>\n",
       "</div>"
      ],
      "text/plain": [
       "    Match  Player  Hero  Kills  Deaths  Assists  Last_Hits  Denies  GPM  XPM  \\\n",
       "0  140011     199    49      5       7        6         32       6  307  472   \n",
       "1  140011     200    42      9       0       24         52       6  270  279   \n",
       "2  140011     201    26      2       4       16        229      25  549  555   \n",
       "3  140011     202   116     11       3       17        135      24  511  857   \n",
       "4  140011     203    97      4       5       25        147      11  338  567   \n",
       "5  140011     145    29      1       9       11         25       3  285  450   \n",
       "6  140011     146    72      2       8       28        105       0  318  564   \n",
       "7  140011     147    11     11       1       12        429       7  752  737   \n",
       "8  140011     148   104      7       5       11        159      21  423  567   \n",
       "9  140011     149     1      3       6       16         40       2  320  484   \n",
       "\n",
       "   Hero_Damage  Tower_Damage  Hero_Healing  Level  Win  \n",
       "0        10028           384           104     20    1  \n",
       "1        36364          1606         10544     17    1  \n",
       "2        35580         20909            48     26    1  \n",
       "3        21349           351           919     20    1  \n",
       "4        17787          6396          9981     27    1  \n",
       "5        17156           140           151     15    0  \n",
       "6        16633           318         14045     23    0  \n",
       "7        25044         10319             0     21    0  \n",
       "8        22967           494          3708     15    0  \n",
       "9        12624           589             0     20    0  "
      ]
     },
     "execution_count": 429,
     "metadata": {},
     "output_type": "execute_result"
    }
   ],
   "source": [
    "create_random_match_data()"
   ]
  },
  {
   "cell_type": "code",
   "execution_count": null,
   "metadata": {},
   "outputs": [],
   "source": [
    "regions = ['North America', 'Europe', 'China', 'Southeast Asia', 'South America', 'CIS']"
   ]
  },
  {
   "cell_type": "code",
   "execution_count": null,
   "metadata": {},
   "outputs": [],
   "source": [
    "# function that takes a pandas dataframe and assign a region based on each player country\n",
    "def assign_region(df):\n",
    "    df['Region'] = df['country'].apply(lambda x: 'North America' if x in ['United States', 'Canada'] else 'Europe' if x in ['United Kingdom', 'Germany', 'France', 'Spain', 'Italy', 'Netherlands', 'Poland', 'Sweden', 'Denmark', 'Norway', 'Finland', 'Belgium', 'Switzerland', 'Austria', 'Portugal', 'Greece', 'Czech Republic', 'Hungary', 'Romania', 'Bulgaria', 'Serbia', 'Slovenia', 'Bosnia and Herzegovina', 'Croatia', 'Ireland', 'Luxembourg', 'Slovakia', 'Estonia', 'Latvia', 'Lithuania', 'Moldova', 'Montenegro', 'Albania', 'Cyprus', 'Macedonia', 'Malta', 'Ukraine', 'Armenia', 'Azerbaijan', 'Georgia', 'Kazakhstan', 'Russia', 'Turkey', 'Belarus', 'Iceland', 'Liechtenstein', 'Monaco', 'San Marino', 'Vatican City'] else 'China' if x in ['China', 'Hong Kong', 'Taiwan'] else 'Southeast Asia' if x in ['Singapore', 'Malaysia', 'Philippines', 'Indonesia', 'Thailand', 'Vietnam', 'Cambodia', 'Laos', 'Myanmar', 'Brunei'] else 'South America' if x in ['Brazil', 'Argentina', 'Chile', 'Colombia', 'Ecuador', 'Peru', 'Venezuela', 'Uruguay', 'Bolivia', 'Paraguay', 'Guyana', 'Suriname', 'French Guiana', 'Easter Island', 'Falkland Islands', 'South Georgia and the South Sandwich Islands', 'South Sandwich Islands', 'Antarctica'] else 'CIS' if x in ['Russia', 'Ukraine', 'Belarus', 'Kazakhstan', 'Azerbaijan', 'Armenia', 'Georgia', 'Kyrgyzstan', 'Moldova', 'Tajikistan', 'Turkmenistan', 'Uzbekistan', 'Kosovo', 'Abkhazia', 'South Ossetia'] else 'Other')\n",
    "    return df"
   ]
  },
  {
   "cell_type": "code",
   "execution_count": null,
   "metadata": {},
   "outputs": [],
   "source": [
    "dota_players = assign_region(dota_active_players)"
   ]
  },
  {
   "cell_type": "code",
   "execution_count": null,
   "metadata": {},
   "outputs": [],
   "source": [
    "# function that detects first occurence of char\n",
    "def find_first(string, char):\n",
    "    for i, c in enumerate(string):\n",
    "        if c == char:\n",
    "            return i\n",
    "    return -1\n",
    "\n",
    "# function that detects last occurence of char\n",
    "def find_last(string, char):\n",
    "    for i, c in enumerate(string[::-1]):\n",
    "        if c == char:\n",
    "            return len(string) - i - 1\n",
    "    return -1"
   ]
  },
  {
   "cell_type": "code",
   "execution_count": null,
   "metadata": {},
   "outputs": [],
   "source": [
    "# split the team column into team name and role\n",
    "dota_players['team_name'] = dota_players['team'].apply(lambda x: x[:find_first(x, '(')].strip())\n",
    "dota_players['role'] = dota_players['team'].apply(lambda x: x[find_first(x, '(')+1:find_last(x, ')')])\n",
    "dota_players.drop('team', axis=1, inplace=True)"
   ]
  },
  {
   "cell_type": "code",
   "execution_count": null,
   "metadata": {},
   "outputs": [],
   "source": [
    "roles = ['Support', 'Offlaner', 'Solo Middle', 'Carry', 'Coach']"
   ]
  },
  {
   "cell_type": "code",
   "execution_count": null,
   "metadata": {},
   "outputs": [],
   "source": [
    "# filter the roles\n",
    "dota_players = dota_players[dota_players['role'].isin(roles)]"
   ]
  },
  {
   "attachments": {},
   "cell_type": "markdown",
   "metadata": {},
   "source": [
    "### Below is for scraping dota data from liquipedia"
   ]
  },
  {
   "cell_type": "code",
   "execution_count": null,
   "metadata": {},
   "outputs": [],
   "source": [
    "# scrape the data from the website\n",
    "url = \"https://liquipedia.net/dota2/Players_(all)\"\n",
    "page = requests.get(url)\n",
    "soup = BeautifulSoup(page.content, \"html.parser\")\n",
    "rows = soup.findAll(\"tr\")\n",
    "# # find the table with the data\n",
    "# table = soup.find('table', class_='wikitable')"
   ]
  },
  {
   "cell_type": "code",
   "execution_count": null,
   "metadata": {},
   "outputs": [],
   "source": [
    "rows[1]"
   ]
  },
  {
   "cell_type": "code",
   "execution_count": null,
   "metadata": {},
   "outputs": [],
   "source": [
    "indexes = rows[1]\n",
    "index_values = []\n",
    "for cell in indexes.find_all(\"th\"):\n",
    "    index_values.append(cell.get_text().rstrip())\n",
    "players = []"
   ]
  },
  {
   "cell_type": "code",
   "execution_count": null,
   "metadata": {},
   "outputs": [],
   "source": [
    "index_values"
   ]
  },
  {
   "cell_type": "code",
   "execution_count": null,
   "metadata": {},
   "outputs": [],
   "source": [
    "for row in rows:\n",
    "    if len(row) > 3:\n",
    "        player = {}\n",
    "        cells = row.find_all(\"td\")\n",
    "        for i in range(0, len(cells)):\n",
    "            key = index_values[i]\n",
    "            if key == \" Links\":\n",
    "                key = \"country\"\n",
    "                value = cells[0].find(\"a\").get(\"title\")\n",
    "            else:\n",
    "                value = cells[i].get_text().rstrip()\n",
    "            player[key] = value\n",
    "        if len(player) > 0:\n",
    "            players.append(player)"
   ]
  },
  {
   "cell_type": "code",
   "execution_count": null,
   "metadata": {},
   "outputs": [],
   "source": [
    "player_df = pd.DataFrame(players)"
   ]
  },
  {
   "cell_type": "code",
   "execution_count": null,
   "metadata": {},
   "outputs": [],
   "source": [
    "player_df.rename(\n",
    "    columns={\" Real Name\": \"name\", \" Team\": \"team\", \" ID\": \"ID\"}, inplace=True\n",
    ")"
   ]
  },
  {
   "cell_type": "code",
   "execution_count": null,
   "metadata": {},
   "outputs": [],
   "source": [
    "filter_roles = {\n",
    "    \"Carry\",\n",
    "    \"Mid\",\n",
    "    \"Offlane\",\n",
    "    \"Support\",\n",
    "    \"Hard Support\",\n",
    "    \"Soft Support\",\n",
    "    \"Hard\",\n",
    "    \"Soft\",\n",
    "    \"Hard Carry\",\n",
    "    \"Soft Carry\",\n",
    "    \"Hard Carry\",\n",
    "    \"Solo Middle\",\n",
    "    \"Analyst\",\n",
    "    \"Caster\",\n",
    "    \"Host\",\n",
    "    \"Offlaner\"\n",
    "}\n",
    "# drop the rows that are in the filter_roles\n",
    "player_df = player_df[~player_df[\"team\"].isin(filter_roles)]"
   ]
  },
  {
   "cell_type": "code",
   "execution_count": null,
   "metadata": {},
   "outputs": [],
   "source": [
    "player_df.to_csv(\"liquipedia_dota_players.csv\", index=False)"
   ]
  },
  {
   "cell_type": "code",
   "execution_count": null,
   "metadata": {},
   "outputs": [],
   "source": [
    "# strip all leading and trailing spaces\n",
    "player_df = player_df.apply(lambda x: x.str.strip() if x.dtype == \"object\" else x)"
   ]
  },
  {
   "cell_type": "code",
   "execution_count": null,
   "metadata": {},
   "outputs": [],
   "source": [
    "url = \"https://liquipedia.net/dota2/Portal:Teams\"\n",
    "page = requests.get(url)\n",
    "soup = BeautifulSoup(page.content, \"html.parser\")\n",
    "teams = []\n",
    "divs = soup.find_all('div',class_=\"panel-box\")"
   ]
  },
  {
   "cell_type": "code",
   "execution_count": null,
   "metadata": {},
   "outputs": [],
   "source": [
    "\n",
    "\n",
    "def get_teams():\n",
    "\turl = \"https://liquipedia.net/dota2/Portal:Teams\"\n",
    "\tpage = requests.get(url)\n",
    "\tsoup = BeautifulSoup(page.content, \"html.parser\")\n",
    "\tteams = []\n",
    "\tdivs = soup.find_all('div',class_=\"panel-box\")\n",
    "\ttemplates = soup.find_all('span',class_=\"team-template-team-standard\")\n",
    "\tfor team in templates:\n",
    "\t\tteams.append(team.a['title'])\n",
    "\t\t\t\n",
    "\treturn teams"
   ]
  },
  {
   "cell_type": "code",
   "execution_count": null,
   "metadata": {},
   "outputs": [],
   "source": [
    "teamdf = pd.DataFrame(get_teams())"
   ]
  },
  {
   "cell_type": "code",
   "execution_count": null,
   "metadata": {},
   "outputs": [],
   "source": [
    "teamdf.to_csv(\"activeteams.csv\")"
   ]
  },
  {
   "cell_type": "code",
   "execution_count": null,
   "metadata": {},
   "outputs": [],
   "source": [
    "print(\n",
    "    \"Min: {}, Max: {}\".format(\n",
    "        dota_performances[\"GPM\"].min(), dota_performances[\"GPM\"].max()\n",
    "    )\n",
    ")"
   ]
  }
 ],
 "metadata": {
  "kernelspec": {
   "display_name": "rstools",
   "language": "python",
   "name": "python3"
  },
  "language_info": {
   "codemirror_mode": {
    "name": "ipython",
    "version": 3
   },
   "file_extension": ".py",
   "mimetype": "text/x-python",
   "name": "python",
   "nbconvert_exporter": "python",
   "pygments_lexer": "ipython3",
   "version": "3.8.15"
  },
  "orig_nbformat": 4,
  "vscode": {
   "interpreter": {
    "hash": "74433767b723a45c483350c3d47eaaf29169a313b081c7ff587871958aa1c787"
   }
  }
 },
 "nbformat": 4,
 "nbformat_minor": 2
}
