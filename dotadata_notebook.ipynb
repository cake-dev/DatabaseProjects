{
 "cells": [
  {
   "cell_type": "code",
   "execution_count": 1,
   "metadata": {},
   "outputs": [],
   "source": [
    "import pandas as pd\n",
    "import numpy as np\n",
    "import matplotlib.pyplot as plt\n",
    "import seaborn as sns\n",
    "import os\n",
    "\n",
    "# import the required libraries for web scraping\n",
    "from bs4 import BeautifulSoup\n",
    "import requests\n",
    "import re\n",
    "import time\n",
    "import random"
   ]
  },
  {
   "cell_type": "code",
   "execution_count": 4,
   "metadata": {},
   "outputs": [],
   "source": [
    "# create a list of all possible rolls of 3 dice\n",
    "rolls = []\n",
    "for i in range(1,7):\n",
    "    for j in range(1,7):\n",
    "        for k in range(1,7):\n",
    "            rolls.append([i,j,k])"
   ]
  },
  {
   "cell_type": "code",
   "execution_count": 5,
   "metadata": {},
   "outputs": [],
   "source": [
    "# get all sums that equal 4 or less\n",
    "sums = []\n",
    "for roll in rolls:\n",
    "    if sum(roll) <= 4:\n",
    "        sums.append(roll)"
   ]
  },
  {
   "cell_type": "code",
   "execution_count": 7,
   "metadata": {},
   "outputs": [
    {
     "data": {
      "text/plain": [
       "216"
      ]
     },
     "execution_count": 7,
     "metadata": {},
     "output_type": "execute_result"
    }
   ],
   "source": [
    "len(rolls)"
   ]
  },
  {
   "cell_type": "code",
   "execution_count": 6,
   "metadata": {},
   "outputs": [
    {
     "data": {
      "text/plain": [
       "[[1, 1, 1], [1, 1, 2], [1, 2, 1], [2, 1, 1]]"
      ]
     },
     "execution_count": 6,
     "metadata": {},
     "output_type": "execute_result"
    }
   ],
   "source": [
    "sums"
   ]
  },
  {
   "cell_type": "code",
   "execution_count": 3,
   "metadata": {},
   "outputs": [],
   "source": [
    "dota_players = pd.read_csv('data/dota_players.csv')\n",
    "dota_teams = pd.read_csv('data/dota_teams.csv')\n",
    "dota_heroes = pd.read_csv('data/dota_heroes.csv')"
   ]
  },
  {
   "cell_type": "code",
   "execution_count": 28,
   "metadata": {},
   "outputs": [],
   "source": [
    "single_performances = pd.read_csv('data/datdota_singleperformances.csv')"
   ]
  },
  {
   "cell_type": "code",
   "execution_count": 63,
   "metadata": {},
   "outputs": [
    {
     "data": {
      "text/html": [
       "<div>\n",
       "<style scoped>\n",
       "    .dataframe tbody tr th:only-of-type {\n",
       "        vertical-align: middle;\n",
       "    }\n",
       "\n",
       "    .dataframe tbody tr th {\n",
       "        vertical-align: top;\n",
       "    }\n",
       "\n",
       "    .dataframe thead th {\n",
       "        text-align: right;\n",
       "    }\n",
       "</style>\n",
       "<table border=\"1\" class=\"dataframe\">\n",
       "  <thead>\n",
       "    <tr style=\"text-align: right;\">\n",
       "      <th></th>\n",
       "      <th>Match</th>\n",
       "      <th>Hero</th>\n",
       "      <th>Player</th>\n",
       "      <th>Result</th>\n",
       "      <th>Kills</th>\n",
       "      <th>Deaths</th>\n",
       "      <th>Assists</th>\n",
       "      <th>GPM</th>\n",
       "      <th>XPM</th>\n",
       "      <th>Last Hits</th>\n",
       "      <th>Denies</th>\n",
       "      <th>LVL</th>\n",
       "      <th>HD</th>\n",
       "      <th>TD</th>\n",
       "      <th>HH</th>\n",
       "      <th>GS</th>\n",
       "      <th>End Game Items</th>\n",
       "    </tr>\n",
       "  </thead>\n",
       "  <tbody>\n",
       "    <tr>\n",
       "      <th>0</th>\n",
       "      <td>7006656045</td>\n",
       "      <td>Beastmaster</td>\n",
       "      <td>Hyko</td>\n",
       "      <td>Win</td>\n",
       "      <td>4</td>\n",
       "      <td>3</td>\n",
       "      <td>15</td>\n",
       "      <td>513</td>\n",
       "      <td>561</td>\n",
       "      <td>194</td>\n",
       "      <td>4</td>\n",
       "      <td>16</td>\n",
       "      <td>9790</td>\n",
       "      <td>7150</td>\n",
       "      <td>2968</td>\n",
       "      <td>14150</td>\n",
       "      <td>Quelling Blade Helm of the Overlord Dust of Ap...</td>\n",
       "    </tr>\n",
       "    <tr>\n",
       "      <th>1</th>\n",
       "      <td>7006656045</td>\n",
       "      <td>Bounty Hunter</td>\n",
       "      <td>RedMonster</td>\n",
       "      <td>Loss</td>\n",
       "      <td>0</td>\n",
       "      <td>8</td>\n",
       "      <td>4</td>\n",
       "      <td>185</td>\n",
       "      <td>211</td>\n",
       "      <td>25</td>\n",
       "      <td>0</td>\n",
       "      <td>9</td>\n",
       "      <td>4192</td>\n",
       "      <td>0</td>\n",
       "      <td>0</td>\n",
       "      <td>5015</td>\n",
       "      <td>Wind Lace Magic Wand Orb of Venom Phase Boots ...</td>\n",
       "    </tr>\n",
       "    <tr>\n",
       "      <th>2</th>\n",
       "      <td>7006656045</td>\n",
       "      <td>Snapfire</td>\n",
       "      <td>ArzenT</td>\n",
       "      <td>Loss</td>\n",
       "      <td>2</td>\n",
       "      <td>3</td>\n",
       "      <td>5</td>\n",
       "      <td>362</td>\n",
       "      <td>434</td>\n",
       "      <td>149</td>\n",
       "      <td>4</td>\n",
       "      <td>14</td>\n",
       "      <td>11874</td>\n",
       "      <td>478</td>\n",
       "      <td>1332</td>\n",
       "      <td>9660</td>\n",
       "      <td>Guardian Greaves Soul Ring Magic Wand Dust of ...</td>\n",
       "    </tr>\n",
       "    <tr>\n",
       "      <th>3</th>\n",
       "      <td>7006656045</td>\n",
       "      <td>Medusa</td>\n",
       "      <td>Rena.-♥</td>\n",
       "      <td>Loss</td>\n",
       "      <td>2</td>\n",
       "      <td>2</td>\n",
       "      <td>2</td>\n",
       "      <td>590</td>\n",
       "      <td>668</td>\n",
       "      <td>334</td>\n",
       "      <td>17</td>\n",
       "      <td>18</td>\n",
       "      <td>12192</td>\n",
       "      <td>887</td>\n",
       "      <td>0</td>\n",
       "      <td>16625</td>\n",
       "      <td>Power Treads Crystalys Wraith Band Dragon Lanc...</td>\n",
       "    </tr>\n",
       "    <tr>\n",
       "      <th>4</th>\n",
       "      <td>7006656045</td>\n",
       "      <td>Earth Spirit</td>\n",
       "      <td>ᅚ</td>\n",
       "      <td>Loss</td>\n",
       "      <td>0</td>\n",
       "      <td>9</td>\n",
       "      <td>7</td>\n",
       "      <td>150</td>\n",
       "      <td>188</td>\n",
       "      <td>15</td>\n",
       "      <td>2</td>\n",
       "      <td>9</td>\n",
       "      <td>4564</td>\n",
       "      <td>222</td>\n",
       "      <td>0</td>\n",
       "      <td>4060</td>\n",
       "      <td>Dust of Appearance Magic Wand Vitality Booster...</td>\n",
       "    </tr>\n",
       "    <tr>\n",
       "      <th>...</th>\n",
       "      <td>...</td>\n",
       "      <td>...</td>\n",
       "      <td>...</td>\n",
       "      <td>...</td>\n",
       "      <td>...</td>\n",
       "      <td>...</td>\n",
       "      <td>...</td>\n",
       "      <td>...</td>\n",
       "      <td>...</td>\n",
       "      <td>...</td>\n",
       "      <td>...</td>\n",
       "      <td>...</td>\n",
       "      <td>...</td>\n",
       "      <td>...</td>\n",
       "      <td>...</td>\n",
       "      <td>...</td>\n",
       "      <td>...</td>\n",
       "    </tr>\n",
       "    <tr>\n",
       "      <th>2495</th>\n",
       "      <td>6985774788</td>\n",
       "      <td>Treant Protector</td>\n",
       "      <td>Mjz</td>\n",
       "      <td>Win</td>\n",
       "      <td>2</td>\n",
       "      <td>4</td>\n",
       "      <td>19</td>\n",
       "      <td>300</td>\n",
       "      <td>345</td>\n",
       "      <td>21</td>\n",
       "      <td>0</td>\n",
       "      <td>14</td>\n",
       "      <td>8542</td>\n",
       "      <td>112</td>\n",
       "      <td>8392</td>\n",
       "      <td>9090</td>\n",
       "      <td>Magic Wand Force Staff Sentry Ward Blink Dagge...</td>\n",
       "    </tr>\n",
       "    <tr>\n",
       "      <th>2496</th>\n",
       "      <td>6985774788</td>\n",
       "      <td>Primal Beast</td>\n",
       "      <td>Oscar</td>\n",
       "      <td>Win</td>\n",
       "      <td>6</td>\n",
       "      <td>0</td>\n",
       "      <td>19</td>\n",
       "      <td>515</td>\n",
       "      <td>678</td>\n",
       "      <td>192</td>\n",
       "      <td>18</td>\n",
       "      <td>20</td>\n",
       "      <td>17074</td>\n",
       "      <td>3279</td>\n",
       "      <td>0</td>\n",
       "      <td>16665</td>\n",
       "      <td>Heaven's Halberd Phase Boots Black King Bar Ag...</td>\n",
       "    </tr>\n",
       "    <tr>\n",
       "      <th>2497</th>\n",
       "      <td>6985774788</td>\n",
       "      <td>Dawnbreaker</td>\n",
       "      <td>Frank</td>\n",
       "      <td>Loss</td>\n",
       "      <td>5</td>\n",
       "      <td>5</td>\n",
       "      <td>2</td>\n",
       "      <td>398</td>\n",
       "      <td>444</td>\n",
       "      <td>186</td>\n",
       "      <td>5</td>\n",
       "      <td>16</td>\n",
       "      <td>11301</td>\n",
       "      <td>36</td>\n",
       "      <td>1599</td>\n",
       "      <td>13910</td>\n",
       "      <td>Phase Boots Magic Wand Soul Ring Bracer Desola...</td>\n",
       "    </tr>\n",
       "    <tr>\n",
       "      <th>2498</th>\n",
       "      <td>6985774788</td>\n",
       "      <td>Legion Commander</td>\n",
       "      <td>LeoStyle-</td>\n",
       "      <td>Loss</td>\n",
       "      <td>2</td>\n",
       "      <td>7</td>\n",
       "      <td>1</td>\n",
       "      <td>341</td>\n",
       "      <td>393</td>\n",
       "      <td>150</td>\n",
       "      <td>15</td>\n",
       "      <td>15</td>\n",
       "      <td>14808</td>\n",
       "      <td>1915</td>\n",
       "      <td>480</td>\n",
       "      <td>9925</td>\n",
       "      <td>Phase Boots Bracer Magic Wand Blade Mail Blink...</td>\n",
       "    </tr>\n",
       "    <tr>\n",
       "      <th>2499</th>\n",
       "      <td>6985774788</td>\n",
       "      <td>Mirana</td>\n",
       "      <td>Sl4d1n-</td>\n",
       "      <td>Win</td>\n",
       "      <td>9</td>\n",
       "      <td>1</td>\n",
       "      <td>16</td>\n",
       "      <td>373</td>\n",
       "      <td>548</td>\n",
       "      <td>64</td>\n",
       "      <td>4</td>\n",
       "      <td>18</td>\n",
       "      <td>12943</td>\n",
       "      <td>1060</td>\n",
       "      <td>2857</td>\n",
       "      <td>12930</td>\n",
       "      <td>Wind Lace Void Stone Gem of True Sight Magic W...</td>\n",
       "    </tr>\n",
       "  </tbody>\n",
       "</table>\n",
       "<p>2490 rows × 17 columns</p>\n",
       "</div>"
      ],
      "text/plain": [
       "           Match              Hero      Player Result  Kills  Deaths  Assists  \\\n",
       "0     7006656045       Beastmaster        Hyko    Win      4       3       15   \n",
       "1     7006656045     Bounty Hunter  RedMonster   Loss      0       8        4   \n",
       "2     7006656045          Snapfire      ArzenT   Loss      2       3        5   \n",
       "3     7006656045            Medusa     Rena.-♥   Loss      2       2        2   \n",
       "4     7006656045      Earth Spirit           ᅚ   Loss      0       9        7   \n",
       "...          ...               ...         ...    ...    ...     ...      ...   \n",
       "2495  6985774788  Treant Protector         Mjz    Win      2       4       19   \n",
       "2496  6985774788      Primal Beast       Oscar    Win      6       0       19   \n",
       "2497  6985774788       Dawnbreaker       Frank   Loss      5       5        2   \n",
       "2498  6985774788  Legion Commander   LeoStyle-   Loss      2       7        1   \n",
       "2499  6985774788            Mirana     Sl4d1n-    Win      9       1       16   \n",
       "\n",
       "      GPM  XPM  Last Hits  Denies  LVL     HD    TD    HH     GS  \\\n",
       "0     513  561        194       4   16   9790  7150  2968  14150   \n",
       "1     185  211         25       0    9   4192     0     0   5015   \n",
       "2     362  434        149       4   14  11874   478  1332   9660   \n",
       "3     590  668        334      17   18  12192   887     0  16625   \n",
       "4     150  188         15       2    9   4564   222     0   4060   \n",
       "...   ...  ...        ...     ...  ...    ...   ...   ...    ...   \n",
       "2495  300  345         21       0   14   8542   112  8392   9090   \n",
       "2496  515  678        192      18   20  17074  3279     0  16665   \n",
       "2497  398  444        186       5   16  11301    36  1599  13910   \n",
       "2498  341  393        150      15   15  14808  1915   480   9925   \n",
       "2499  373  548         64       4   18  12943  1060  2857  12930   \n",
       "\n",
       "                                         End Game Items  \n",
       "0     Quelling Blade Helm of the Overlord Dust of Ap...  \n",
       "1     Wind Lace Magic Wand Orb of Venom Phase Boots ...  \n",
       "2     Guardian Greaves Soul Ring Magic Wand Dust of ...  \n",
       "3     Power Treads Crystalys Wraith Band Dragon Lanc...  \n",
       "4     Dust of Appearance Magic Wand Vitality Booster...  \n",
       "...                                                 ...  \n",
       "2495  Magic Wand Force Staff Sentry Ward Blink Dagge...  \n",
       "2496  Heaven's Halberd Phase Boots Black King Bar Ag...  \n",
       "2497  Phase Boots Magic Wand Soul Ring Bracer Desola...  \n",
       "2498  Phase Boots Bracer Magic Wand Blade Mail Blink...  \n",
       "2499  Wind Lace Void Stone Gem of True Sight Magic W...  \n",
       "\n",
       "[2490 rows x 17 columns]"
      ]
     },
     "execution_count": 63,
     "metadata": {},
     "output_type": "execute_result"
    }
   ],
   "source": [
    "single_performances"
   ]
  },
  {
   "cell_type": "code",
   "execution_count": 92,
   "metadata": {},
   "outputs": [
    {
     "data": {
      "image/png": "[encoded data removed]",
      "text/plain": [
       "<Figure size 720x432 with 1 Axes>"
      ]
     },
     "metadata": {
      "needs_background": "light"
     },
     "output_type": "display_data"
    },
    {
     "data": {
      "image/png": "[encoded data removed]",
      "text/plain": [
       "<Figure size 720x432 with 1 Axes>"
      ]
     },
     "metadata": {
      "needs_background": "light"
     },
     "output_type": "display_data"
    }
   ],
   "source": [
    "# get a list of how gpm scales with kills and last hits\n",
    "gpm_kills = single_performances.groupby('Kills')['GPM'].mean()\n",
    "gpm_lh = single_performances.groupby('Last Hits')['GPM'].mean()\n",
    "xpm_kills = single_performances.groupby('Kills')['XPM'].mean()\n",
    "xpm_lh = single_performances.groupby('Last Hits')['XPM'].mean()\n",
    "xpm_level = single_performances.groupby('LVL')['XPM'].mean()\n",
    "\n",
    "# plot the data\n",
    "fig, ax = plt.subplots(figsize=(10, 6))\n",
    "fig2, ax2 = plt.subplots(figsize=(10, 6))\n",
    "ax.plot(gpm_kills.index, gpm_kills.values, label='GPM per kill')\n",
    "ax2.plot(gpm_lh.index, gpm_lh.values, label='GPM per last hit')\n",
    "ax.set_xlabel('Kills')\n",
    "ax.set_ylabel('GPM')\n",
    "ax2.set_xlabel('Last Hits')\n",
    "ax2.set_ylabel('GPM')\n",
    "ax2.legend()\n",
    "ax.legend()\n",
    "plt.show()"
   ]
  },
  {
   "cell_type": "code",
   "execution_count": 33,
   "metadata": {},
   "outputs": [
    {
     "data": {
      "text/plain": [
       "{'Kills': [0, 27],\n",
       " 'Deaths': [0, 20],\n",
       " 'Assists': [0, 46],\n",
       " 'GPM': [140, 1110],\n",
       " 'XPM': [155, 1106],\n",
       " 'Last Hits': [6, 1683],\n",
       " 'Denies': [0, 59],\n",
       " 'LVL': [6, 30],\n",
       " 'HD': [1723, 115260],\n",
       " 'TD': [0, 34011],\n",
       " 'HH': [0, 30899],\n",
       " 'GS': [2630, 74295]}"
      ]
     },
     "execution_count": 33,
     "metadata": {},
     "output_type": "execute_result"
    }
   ],
   "source": [
    "# get the value ranges for all columns in single_performances and put them in a dictionary\n",
    "value_ranges = {}\n",
    "value_averages = {}\n",
    "for col in single_performances.columns:\n",
    "    if col != 'Match' and col != 'Hero' and col != 'Player' and col != 'Result' and col != 'End Game Items':\n",
    "        value_ranges[col] = [min(single_performances[col]), max(single_performances[col])]\n",
    "        value_averages[col] = np.mean(single_performances[col])\n",
    "value_ranges"
   ]
  },
  {
   "cell_type": "code",
   "execution_count": 96,
   "metadata": {},
   "outputs": [
    {
     "data": {
      "text/plain": [
       "LVL\n",
       "6     175.500000\n",
       "7     207.000000\n",
       "8     196.500000\n",
       "9     217.666667\n",
       "10    275.545455\n",
       "11    281.696429\n",
       "12    309.918919\n",
       "13    337.037383\n",
       "14    370.188525\n",
       "15    405.007874\n",
       "16    453.235294\n",
       "17    477.313253\n",
       "18    519.263682\n",
       "19    549.000000\n",
       "20    583.687898\n",
       "21    618.210843\n",
       "22    671.686391\n",
       "23    687.671329\n",
       "24    729.753731\n",
       "25    769.104000\n",
       "26    732.604167\n",
       "27    780.745098\n",
       "28    762.017857\n",
       "29    773.250000\n",
       "30    792.090909\n",
       "Name: XPM, dtype: float64"
      ]
     },
     "execution_count": 96,
     "metadata": {},
     "output_type": "execute_result"
    }
   ],
   "source": [
    "xpm_level"
   ]
  },
  {
   "cell_type": "code",
   "execution_count": 6,
   "metadata": {},
   "outputs": [],
   "source": [
    "player_options = dota_players['ID'].unique()"
   ]
  },
  {
   "cell_type": "code",
   "execution_count": 118,
   "metadata": {},
   "outputs": [],
   "source": [
    "# create a class to store single performance data\n",
    "class SinglePerformance:\n",
    "    def __init__(\n",
    "        self,\n",
    "        match_id,\n",
    "        player_id,\n",
    "        hero_id,\n",
    "        kills,\n",
    "        deaths,\n",
    "        assists,\n",
    "        last_hits,\n",
    "        denies,\n",
    "        gpm,\n",
    "        xpm,\n",
    "        hero_damage,\n",
    "        tower_damage,\n",
    "        hero_healing,\n",
    "        level,\n",
    "    ):\n",
    "        self.match_id = match_id\n",
    "        self.player_id = player_id\n",
    "        self.hero_id = hero_id\n",
    "        self.kills = kills\n",
    "        self.deaths = deaths\n",
    "        self.assists = assists\n",
    "        self.last_hits = last_hits\n",
    "        self.denies = denies\n",
    "        self.gpm = gpm\n",
    "        self.xpm = xpm\n",
    "        self.hero_damage = hero_damage\n",
    "        self.tower_damage = tower_damage\n",
    "        self.hero_healing = hero_healing\n",
    "        self.level = level\n",
    "\n",
    "    def get_info(self):\n",
    "        return {\n",
    "            \"Match\": self.match_id,\n",
    "            \"Player\": self.player_id,\n",
    "            \"Hero\": self.hero_id,\n",
    "            \"Kills\": self.kills,\n",
    "            \"Deaths\": self.deaths,\n",
    "            \"Assists\": self.assists,\n",
    "            \"Last_Hits\": self.last_hits,\n",
    "            \"Denies\": self.denies,\n",
    "            \"GPM\": self.gpm,\n",
    "            \"XPM\": self.xpm,\n",
    "            \"Hero_Damage\": self.hero_damage,\n",
    "            \"Tower_Damage\": self.tower_damage,\n",
    "            \"Hero_Healing\": self.hero_healing,\n",
    "            \"Level\": self.level,\n",
    "        }\n",
    "\n",
    "\n",
    "# create a function to generate random performance data\n",
    "def generate_random_performance(player_id, hero_id, match_id):\n",
    "    kills = random.randint(0, 25)\n",
    "    deaths = random.randint(0, 20)\n",
    "    assists = random.randint(0, 40)\n",
    "    last_hits = random.randint(1, 750)\n",
    "    denies = random.randint(0, 50)\n",
    "    gpm = random.randint(100, 1000)\n",
    "    xpm = random.randint(100, 1000)\n",
    "    hero_damage = random.randint(0, 40000)\n",
    "    tower_damage = random.randint(0, 10000)\n",
    "    hero_healing = random.randint(0, 10000)\n",
    "    level = random.randint(10, 30)\n",
    "\n",
    "    # adjust the gpm, xpm, and level based on kills and last hit distribution from single_performances\n",
    "    gpm_kill_values = gpm_kills.values\n",
    "    xpm_kill_values = xpm_kills.values\n",
    "    gpm_lh_values = gpm_lh.values\n",
    "    xpm_lh_values = xpm_lh.values\n",
    "\n",
    "    gpm = int(gpm_kills[kills] + gpm_lh[last_hits])/2\n",
    "    xpm = int(xpm_kills[kills] + xpm_lh[last_hits])/2\n",
    "    xpm_level_values = xpm_level.values\n",
    "    # find the nearest level to the xpm\n",
    "    # xpm_level = np.abs(xpm_level_values - xpm).argmin()\n",
    "    level = np.abs(xpm_level_values - xpm).argmin()\n",
    "\n",
    "    return SinglePerformance(\n",
    "        player_id,\n",
    "        hero_id,\n",
    "        match_id,\n",
    "        kills,\n",
    "        deaths,\n",
    "        assists,\n",
    "        last_hits,\n",
    "        denies,\n",
    "        gpm,\n",
    "        xpm,\n",
    "        hero_damage,\n",
    "        tower_damage,\n",
    "        hero_healing,\n",
    "        level,\n",
    "    )"
   ]
  },
  {
   "cell_type": "code",
   "execution_count": 125,
   "metadata": {},
   "outputs": [
    {
     "data": {
      "text/plain": [
       "{'Match': 1,\n",
       " 'Player': 1,\n",
       " 'Hero': 1,\n",
       " 'Kills': 16,\n",
       " 'Deaths': 17,\n",
       " 'Assists': 39,\n",
       " 'Last_Hits': 58,\n",
       " 'Denies': 50,\n",
       " 'GPM': 503.0,\n",
       " 'XPM': 624.5,\n",
       " 'Hero_Damage': 18145,\n",
       " 'Tower_Damage': 9760,\n",
       " 'Hero_Healing': 1731,\n",
       " 'Level': 15}"
      ]
     },
     "execution_count": 125,
     "metadata": {},
     "output_type": "execute_result"
    }
   ],
   "source": [
    "sp = generate_random_performance(1, 1, 1)\n",
    "sp.get_info()"
   ]
  },
  {
   "cell_type": "code",
   "execution_count": 36,
   "metadata": {},
   "outputs": [
    {
     "data": {
      "text/plain": [
       "{'Kills': [0, 27],\n",
       " 'Deaths': [0, 20],\n",
       " 'Assists': [0, 46],\n",
       " 'GPM': [140, 1110],\n",
       " 'XPM': [155, 1106],\n",
       " 'Last Hits': [6, 1683],\n",
       " 'Denies': [0, 59],\n",
       " 'LVL': [6, 30],\n",
       " 'HD': [1723, 115260],\n",
       " 'TD': [0, 34011],\n",
       " 'HH': [0, 30899],\n",
       " 'GS': [2630, 74295]}"
      ]
     },
     "execution_count": 36,
     "metadata": {},
     "output_type": "execute_result"
    }
   ],
   "source": [
    "value_ranges"
   ]
  },
  {
   "cell_type": "code",
   "execution_count": null,
   "metadata": {},
   "outputs": [],
   "source": [
    "regions = ['North America', 'Europe', 'China', 'Southeast Asia', 'South America', 'CIS']"
   ]
  },
  {
   "cell_type": "code",
   "execution_count": null,
   "metadata": {},
   "outputs": [],
   "source": [
    "# function that takes a pandas dataframe and assign a region based on each player country\n",
    "def assign_region(df):\n",
    "    df['Region'] = df['country'].apply(lambda x: 'North America' if x in ['United States', 'Canada'] else 'Europe' if x in ['United Kingdom', 'Germany', 'France', 'Spain', 'Italy', 'Netherlands', 'Poland', 'Sweden', 'Denmark', 'Norway', 'Finland', 'Belgium', 'Switzerland', 'Austria', 'Portugal', 'Greece', 'Czech Republic', 'Hungary', 'Romania', 'Bulgaria', 'Serbia', 'Slovenia', 'Bosnia and Herzegovina', 'Croatia', 'Ireland', 'Luxembourg', 'Slovakia', 'Estonia', 'Latvia', 'Lithuania', 'Moldova', 'Montenegro', 'Albania', 'Cyprus', 'Macedonia', 'Malta', 'Ukraine', 'Armenia', 'Azerbaijan', 'Georgia', 'Kazakhstan', 'Russia', 'Turkey', 'Belarus', 'Iceland', 'Liechtenstein', 'Monaco', 'San Marino', 'Vatican City'] else 'China' if x in ['China', 'Hong Kong', 'Taiwan'] else 'Southeast Asia' if x in ['Singapore', 'Malaysia', 'Philippines', 'Indonesia', 'Thailand', 'Vietnam', 'Cambodia', 'Laos', 'Myanmar', 'Brunei'] else 'South America' if x in ['Brazil', 'Argentina', 'Chile', 'Colombia', 'Ecuador', 'Peru', 'Venezuela', 'Uruguay', 'Bolivia', 'Paraguay', 'Guyana', 'Suriname', 'French Guiana', 'Easter Island', 'Falkland Islands', 'South Georgia and the South Sandwich Islands', 'South Sandwich Islands', 'Antarctica'] else 'CIS' if x in ['Russia', 'Ukraine', 'Belarus', 'Kazakhstan', 'Azerbaijan', 'Armenia', 'Georgia', 'Kyrgyzstan', 'Moldova', 'Tajikistan', 'Turkmenistan', 'Uzbekistan', 'Kosovo', 'Abkhazia', 'South Ossetia'] else 'Other')\n",
    "    return df"
   ]
  },
  {
   "cell_type": "code",
   "execution_count": null,
   "metadata": {},
   "outputs": [],
   "source": [
    "dota_players = assign_region(dota_active_players)"
   ]
  },
  {
   "cell_type": "code",
   "execution_count": null,
   "metadata": {},
   "outputs": [],
   "source": [
    "# function that detects first occurence of char\n",
    "def find_first(string, char):\n",
    "    for i, c in enumerate(string):\n",
    "        if c == char:\n",
    "            return i\n",
    "    return -1\n",
    "\n",
    "# function that detects last occurence of char\n",
    "def find_last(string, char):\n",
    "    for i, c in enumerate(string[::-1]):\n",
    "        if c == char:\n",
    "            return len(string) - i - 1\n",
    "    return -1"
   ]
  },
  {
   "cell_type": "code",
   "execution_count": null,
   "metadata": {},
   "outputs": [],
   "source": [
    "# split the team column into team name and role\n",
    "dota_players['team_name'] = dota_players['team'].apply(lambda x: x[:find_first(x, '(')].strip())\n",
    "dota_players['role'] = dota_players['team'].apply(lambda x: x[find_first(x, '(')+1:find_last(x, ')')])\n",
    "dota_players.drop('team', axis=1, inplace=True)"
   ]
  },
  {
   "cell_type": "code",
   "execution_count": null,
   "metadata": {},
   "outputs": [],
   "source": [
    "roles = ['Support', 'Offlaner', 'Solo Middle', 'Carry', 'Coach']"
   ]
  },
  {
   "cell_type": "code",
   "execution_count": null,
   "metadata": {},
   "outputs": [],
   "source": [
    "# filter the roles\n",
    "dota_players = dota_players[dota_players['role'].isin(roles)]"
   ]
  },
  {
   "attachments": {},
   "cell_type": "markdown",
   "metadata": {},
   "source": [
    "### Below is for scraping dota data from liquipedia"
   ]
  },
  {
   "cell_type": "code",
   "execution_count": null,
   "metadata": {},
   "outputs": [],
   "source": [
    "# scrape the data from the website\n",
    "url = \"https://liquipedia.net/dota2/Players_(all)\"\n",
    "page = requests.get(url)\n",
    "soup = BeautifulSoup(page.content, \"html.parser\")\n",
    "rows = soup.findAll(\"tr\")\n",
    "# # find the table with the data\n",
    "# table = soup.find('table', class_='wikitable')"
   ]
  },
  {
   "cell_type": "code",
   "execution_count": null,
   "metadata": {},
   "outputs": [],
   "source": [
    "rows[1]"
   ]
  },
  {
   "cell_type": "code",
   "execution_count": null,
   "metadata": {},
   "outputs": [],
   "source": [
    "indexes = rows[1]\n",
    "index_values = []\n",
    "for cell in indexes.find_all(\"th\"):\n",
    "    index_values.append(cell.get_text().rstrip())\n",
    "players = []"
   ]
  },
  {
   "cell_type": "code",
   "execution_count": null,
   "metadata": {},
   "outputs": [],
   "source": [
    "index_values"
   ]
  },
  {
   "cell_type": "code",
   "execution_count": null,
   "metadata": {},
   "outputs": [],
   "source": [
    "for row in rows:\n",
    "    if len(row) > 3:\n",
    "        player = {}\n",
    "        cells = row.find_all(\"td\")\n",
    "        for i in range(0, len(cells)):\n",
    "            key = index_values[i]\n",
    "            if key == \" Links\":\n",
    "                key = \"country\"\n",
    "                value = cells[0].find(\"a\").get(\"title\")\n",
    "            else:\n",
    "                value = cells[i].get_text().rstrip()\n",
    "            player[key] = value\n",
    "        if len(player) > 0:\n",
    "            players.append(player)"
   ]
  },
  {
   "cell_type": "code",
   "execution_count": null,
   "metadata": {},
   "outputs": [],
   "source": [
    "player_df = pd.DataFrame(players)"
   ]
  },
  {
   "cell_type": "code",
   "execution_count": null,
   "metadata": {},
   "outputs": [],
   "source": [
    "player_df.rename(\n",
    "    columns={\" Real Name\": \"name\", \" Team\": \"team\", \" ID\": \"ID\"}, inplace=True\n",
    ")"
   ]
  },
  {
   "cell_type": "code",
   "execution_count": null,
   "metadata": {},
   "outputs": [],
   "source": [
    "filter_roles = {\n",
    "    \"Carry\",\n",
    "    \"Mid\",\n",
    "    \"Offlane\",\n",
    "    \"Support\",\n",
    "    \"Hard Support\",\n",
    "    \"Soft Support\",\n",
    "    \"Hard\",\n",
    "    \"Soft\",\n",
    "    \"Hard Carry\",\n",
    "    \"Soft Carry\",\n",
    "    \"Hard Carry\",\n",
    "    \"Solo Middle\",\n",
    "    \"Analyst\",\n",
    "    \"Caster\",\n",
    "    \"Host\",\n",
    "    \"Offlaner\"\n",
    "}\n",
    "# drop the rows that are in the filter_roles\n",
    "player_df = player_df[~player_df[\"team\"].isin(filter_roles)]"
   ]
  },
  {
   "cell_type": "code",
   "execution_count": null,
   "metadata": {},
   "outputs": [],
   "source": [
    "player_df.to_csv(\"liquipedia_dota_players.csv\", index=False)"
   ]
  },
  {
   "cell_type": "code",
   "execution_count": null,
   "metadata": {},
   "outputs": [],
   "source": [
    "# strip all leading and trailing spaces\n",
    "player_df = player_df.apply(lambda x: x.str.strip() if x.dtype == \"object\" else x)"
   ]
  },
  {
   "cell_type": "code",
   "execution_count": null,
   "metadata": {},
   "outputs": [],
   "source": [
    "url = \"https://liquipedia.net/dota2/Portal:Teams\"\n",
    "page = requests.get(url)\n",
    "soup = BeautifulSoup(page.content, \"html.parser\")\n",
    "teams = []\n",
    "divs = soup.find_all('div',class_=\"panel-box\")"
   ]
  },
  {
   "cell_type": "code",
   "execution_count": null,
   "metadata": {},
   "outputs": [],
   "source": [
    "\n",
    "\n",
    "def get_teams():\n",
    "\turl = \"https://liquipedia.net/dota2/Portal:Teams\"\n",
    "\tpage = requests.get(url)\n",
    "\tsoup = BeautifulSoup(page.content, \"html.parser\")\n",
    "\tteams = []\n",
    "\tdivs = soup.find_all('div',class_=\"panel-box\")\n",
    "\ttemplates = soup.find_all('span',class_=\"team-template-team-standard\")\n",
    "\tfor team in templates:\n",
    "\t\tteams.append(team.a['title'])\n",
    "\t\t\t\n",
    "\treturn teams"
   ]
  },
  {
   "cell_type": "code",
   "execution_count": null,
   "metadata": {},
   "outputs": [],
   "source": [
    "teamdf = pd.DataFrame(get_teams())"
   ]
  },
  {
   "cell_type": "code",
   "execution_count": null,
   "metadata": {},
   "outputs": [],
   "source": [
    "teamdf.to_csv(\"activeteams.csv\")"
   ]
  },
  {
   "cell_type": "code",
   "execution_count": null,
   "metadata": {},
   "outputs": [],
   "source": [
    "print(\n",
    "    \"Min: {}, Max: {}\".format(\n",
    "        dota_performances[\"GPM\"].min(), dota_performances[\"GPM\"].max()\n",
    "    )\n",
    ")"
   ]
  }
 ],
 "metadata": {
  "kernelspec": {
   "display_name": "rstools",
   "language": "python",
   "name": "python3"
  },
  "language_info": {
   "codemirror_mode": {
    "name": "ipython",
    "version": 3
   },
   "file_extension": ".py",
   "mimetype": "text/x-python",
   "name": "python",
   "nbconvert_exporter": "python",
   "pygments_lexer": "ipython3",
   "version": "3.8.15"
  },
  "orig_nbformat": 4,
  "vscode": {
   "interpreter": {
    "hash": "74433767b723a45c483350c3d47eaaf29169a313b081c7ff587871958aa1c787"
   }
  }
 },
 "nbformat": 4,
 "nbformat_minor": 2
}
